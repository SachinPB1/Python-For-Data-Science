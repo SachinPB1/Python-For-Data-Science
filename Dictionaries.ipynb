{
 "cells": [
  {
   "cell_type": "markdown",
   "metadata": {},
   "source": [
    "# Python Dictionary:\n",
    "\n",
    "\n",
    "\n",
    "A Python dictionary is a collection of items, similar to lists and tuples. However, unlike lists and tuples, each item in a dictionary is a key-value pair (consisting of a key and a value).\n",
    "\n",
    "\n",
    "We create a dictionary by placing key: value pairs inside curly brackets {}, separated by commas.\n",
    "\n",
    "#### characteristics:\n",
    "\n",
    "- Dictionary items are ordered, and changeable, and do not allow duplicate keys.\n",
    "\n",
    "\n",
    "- ictionary items are presented in key: value pairs and can be referred to by using the key name.\n",
    "\n"
   ]
  },
  {
   "cell_type": "code",
   "execution_count": 1,
   "metadata": {},
   "outputs": [
    {
     "name": "stdout",
     "output_type": "stream",
     "text": [
      "{'India': 'New Delhi', 'Canada': 'Ottawa', 'England': 'London'}\n"
     ]
    }
   ],
   "source": [
    "# creating simple  Dictionary.\n",
    "\n",
    "\n",
    "country_capitals = {\n",
    "  \"India\": \"New Delhi\", \n",
    "  \"Canada\": \"Ottawa\", \n",
    "  \"England\": \"London\"\n",
    "}\n",
    "print(country_capitals)\n",
    "\n",
    "# NOTE:\n",
    "\n",
    "#  The country_capitals dictionary has three elements, India is the key and New Delhi is the value assigned "
   ]
  },
  {
   "cell_type": "code",
   "execution_count": 2,
   "metadata": {},
   "outputs": [
    {
     "name": "stdout",
     "output_type": "stream",
     "text": [
      "{'India': 'New Delhi', 'Canada': 'Ottawa', 'England': 'London'}\n"
     ]
    }
   ],
   "source": [
    "# Dictionaries cannot have two items with the same key,   Duplicate values will overwrite existing values\n",
    "\n",
    "country_capitals = {\n",
    "  \"India\": \"New Delhi\", \n",
    "  \"Canada\": \"Ottawa\", \n",
    "  \"England\": \"London\",\n",
    "  \"India\": \"New Delhi\"\n",
    "}\n",
    "\n",
    "print(country_capitals)"
   ]
  },
  {
   "cell_type": "code",
   "execution_count": 3,
   "metadata": {},
   "outputs": [
    {
     "name": "stdout",
     "output_type": "stream",
     "text": [
      "3\n"
     ]
    }
   ],
   "source": [
    "#  With the  help of len() function we can find number of items in the dictionary.\n",
    "\n",
    "country_capitals = {\n",
    "  \"India\": \"New Delhi\", \n",
    "  \"Canada\": \"Ottawa\", \n",
    "  \"England\": \"London\",\n",
    "  }\n",
    "\n",
    "print(len(country_capitals))\n"
   ]
  },
  {
   "cell_type": "code",
   "execution_count": 4,
   "metadata": {},
   "outputs": [
    {
     "name": "stdout",
     "output_type": "stream",
     "text": [
      "<class 'dict'>\n"
     ]
    }
   ],
   "source": [
    "# Print the data type of a dictionary:\n",
    "\n",
    "country_capitals = {\n",
    "  \"India\": \"New Delhi\", \n",
    "  \"Canada\": \"Ottawa\", \n",
    "  \"England\": \"London\",\n",
    "  }\n",
    "\n",
    "print(type(country_capitals))\n"
   ]
  },
  {
   "cell_type": "markdown",
   "metadata": {},
   "source": [
    "- Immutable objects can't be changed once created. Some immutable objects in Python are integer, tuple and string.\n",
    "- When we used a list as a key, an error message occurred \n",
    "- We can use  integers, tuples, and strings as keys for the dictionaries. "
   ]
  },
  {
   "cell_type": "code",
   "execution_count": 5,
   "metadata": {},
   "outputs": [
    {
     "name": "stdout",
     "output_type": "stream",
     "text": [
      "{1: 'one', 2: 'two', 3: 'three'}\n",
      "{(1, 2): 'one two', 3: 'three'}\n"
     ]
    },
    {
     "data": {
      "text/plain": [
       "{'USA': ['Chicago', 'California', 'New York'],\n",
       " 'india': ['bangalore', 'mysore']}"
      ]
     },
     "execution_count": 5,
     "metadata": {},
     "output_type": "execute_result"
    }
   ],
   "source": [
    "# valid dictionary\n",
    "# integer as a key\n",
    "dict_1 = {1: \"one\", 2: \"two\", 3: \"three\"}\n",
    "print(dict_1)\n",
    "\n",
    "# valid dictionary\n",
    "# tuple as a key\n",
    "dict_2 = {(1, 2): \"one two\", 3: \"three\"}\n",
    "print(dict_2)\n",
    "\n",
    "# invalid dictionary\n",
    "# Error: using a list as a key is not allowed\n",
    "# my_dict = {1: \"Hello\", [1, 2]: \"Hello Hi\"}\n",
    "\n",
    "# valid dictionary\n",
    "# string as a key, list as a value\n",
    "dict_3 = {\"USA\": [\"Chicago\", \"California\", \"New York\"],\n",
    "         \"india\":[ \"bangalore\", \"mysore\"]}\n",
    "dict_3"
   ]
  },
  {
   "cell_type": "code",
   "execution_count": 6,
   "metadata": {},
   "outputs": [
    {
     "name": "stdout",
     "output_type": "stream",
     "text": [
      "{'name': 'sachin', 'age': 24, 'country': 'india'}\n"
     ]
    }
   ],
   "source": [
    "# It is also possible to use the dict() constructor to make a dictionary.\n",
    "\n",
    "info = dict(name = \"sachin\", age = 24, country = \"india\")\n",
    "print(info)\n"
   ]
  },
  {
   "cell_type": "markdown",
   "metadata": {},
   "source": [
    "## Accessing:\n",
    "\n",
    "- We can access the value of a dictionary item by placing the key inside square brackets."
   ]
  },
  {
   "cell_type": "code",
   "execution_count": 7,
   "metadata": {},
   "outputs": [
    {
     "name": "stdout",
     "output_type": "stream",
     "text": [
      "24\n"
     ]
    }
   ],
   "source": [
    "info = {\"name\": \"sachin\", \n",
    "        \"age\": 24,\n",
    "        \"country\": \"india\"}\n",
    "\n",
    "# access the value of keys\n",
    "print(info[\"age\"])\n"
   ]
  },
  {
   "cell_type": "code",
   "execution_count": 8,
   "metadata": {},
   "outputs": [
    {
     "name": "stdout",
     "output_type": "stream",
     "text": [
      "india\n"
     ]
    }
   ],
   "source": [
    "# We can also use the get() method to access dictionary items.\n",
    "\n",
    "\n",
    "info = {\"name\": \"sachin\", \n",
    "        \"age\": 24,\n",
    "        \"country\": \"india\"}\n",
    "\n",
    "print(info.get(\"country\"))"
   ]
  },
  {
   "cell_type": "code",
   "execution_count": 9,
   "metadata": {},
   "outputs": [
    {
     "name": "stdout",
     "output_type": "stream",
     "text": [
      "dict_keys(['name', 'age', 'country'])\n"
     ]
    }
   ],
   "source": [
    "# The keys() method will return a list of all the keys in the dictionary\n",
    "\n",
    "\n",
    "info = {\"name\": \"sachin\", \n",
    "        \"age\": 24,\n",
    "        \"country\": \"india\"}\n",
    "print(info.keys())"
   ]
  },
  {
   "cell_type": "code",
   "execution_count": 10,
   "metadata": {},
   "outputs": [
    {
     "name": "stdout",
     "output_type": "stream",
     "text": [
      "dict_values(['sachin', 24, 'india'])\n"
     ]
    }
   ],
   "source": [
    "# The values() method will return a list of all the values in the dictionary.\n",
    "\n",
    "\n",
    "print(info.values())"
   ]
  },
  {
   "cell_type": "code",
   "execution_count": 11,
   "metadata": {},
   "outputs": [
    {
     "name": "stdout",
     "output_type": "stream",
     "text": [
      "dict_items([('name', 'sachin'), ('age', 24), ('country', 'india')])\n"
     ]
    }
   ],
   "source": [
    "# items() method will return each item in a dictionary, as tuples in a list.\n",
    "\n",
    "print(info.items())"
   ]
  },
  {
   "cell_type": "code",
   "execution_count": 12,
   "metadata": {},
   "outputs": [
    {
     "name": "stdout",
     "output_type": "stream",
     "text": [
      "yes\n"
     ]
    }
   ],
   "source": [
    "# Check if \"age\" is present in the dictionary:\n",
    "\n",
    "\n",
    "info = {\"name\": \"sachin\", \n",
    "        \"age\": 24,\n",
    "        \"country\": \"india\"}\n",
    "if \"age\" in info:\n",
    "    print(\"yes\")"
   ]
  },
  {
   "cell_type": "markdown",
   "metadata": {},
   "source": [
    "## Change Values:\n",
    "\n",
    "- We can change the value of a specific item by referring to its key name.\n",
    "- The update() method will update the dictionary with the items from the given argument.\n"
   ]
  },
  {
   "cell_type": "code",
   "execution_count": 13,
   "metadata": {},
   "outputs": [
    {
     "name": "stdout",
     "output_type": "stream",
     "text": [
      "{'name': 'samskruthi', 'age': 24, 'country': 'india'}\n"
     ]
    }
   ],
   "source": [
    "# Change the \"name\" to samskruthi:\n",
    "\n",
    "info = {\"name\": \"sachin\", \n",
    "        \"age\": 24,\n",
    "        \"country\": \"india\"}\n",
    "info[\"name\"]=\"samskruthi\"\n",
    "print(info)"
   ]
  },
  {
   "cell_type": "code",
   "execution_count": 14,
   "metadata": {},
   "outputs": [
    {
     "name": "stdout",
     "output_type": "stream",
     "text": [
      "{'name': 'samskruthi', 'age': 24, 'country': 'india'}\n"
     ]
    }
   ],
   "source": [
    "# Update the \"name\"  by using the update() method:\n",
    "\n",
    "info = {\"name\": \"sachin\", \n",
    "        \"age\": 24,\n",
    "        \"country\": \"india\"}\n",
    "info.update({\"name\":\"samskruthi\"})\n",
    "print(info)"
   ]
  },
  {
   "cell_type": "markdown",
   "metadata": {},
   "source": [
    "## Adding Items:\n",
    "\n",
    " We can add an item to a dictionary by assigning a value to a new key."
   ]
  },
  {
   "cell_type": "code",
   "execution_count": 15,
   "metadata": {},
   "outputs": [
    {
     "name": "stdout",
     "output_type": "stream",
     "text": [
      "{'brand': 'Ford', 'model': 'Mustang', 'year': 1964, 'color': 'red'}\n"
     ]
    }
   ],
   "source": [
    "list = {\"brand\": \"Ford\",\n",
    "      \"model\": \"Mustang\",\n",
    "       \"year\": 1964\n",
    "}\n",
    "list[\"color\"] = \"red\"\n",
    "print(list)\n",
    "\n",
    "\n",
    "# using update() method Add a color item\n",
    "list = {\n",
    "       \"brand\": \"Ford\",\n",
    "        \"model\": \"Mustang\",\n",
    "        \"year\": 1964 }\n",
    "list.update({\"color\": \"red\"})"
   ]
  },
  {
   "cell_type": "markdown",
   "metadata": {},
   "source": [
    "## Removing Items:\n",
    "\n",
    "- We can use the del statement and pop()  method to remove an element from a dictionary.\n",
    "- If we need to remove all items from a dictionary at once, we can use the clear() method."
   ]
  },
  {
   "cell_type": "code",
   "execution_count": 16,
   "metadata": {},
   "outputs": [
    {
     "name": "stdout",
     "output_type": "stream",
     "text": [
      "{'brand': 'Ford', 'model': 'Mustang'}\n"
     ]
    }
   ],
   "source": [
    "# with the help of pop() method removes the item with the specified key name:\n",
    "\n",
    "car = {\n",
    "  \"brand\": \"Ford\",\n",
    "  \"model\": \"Mustang\",\n",
    "  \"year\": 1964\n",
    "}\n",
    "car.pop(\"year\")\n",
    "print(car)"
   ]
  },
  {
   "cell_type": "code",
   "execution_count": 17,
   "metadata": {},
   "outputs": [
    {
     "name": "stdout",
     "output_type": "stream",
     "text": [
      "{'brand': 'Ford', 'year': 1964}\n",
      "{}\n"
     ]
    }
   ],
   "source": [
    "# with the help del keyword removes the item with the specified key name.\n",
    "\n",
    "car = {\n",
    "  \"brand\": \"Ford\",\n",
    "  \"model\": \"Mustang\",\n",
    "  \"year\": 1964\n",
    "}\n",
    "del car [\"model\"]\n",
    "print(car)\n",
    "\n",
    "# The clear() method empties the dictionary\n",
    "car.clear()\n",
    "print(car)"
   ]
  },
  {
   "cell_type": "markdown",
   "metadata": {},
   "source": [
    "## Loop Through a Dictionary:\n",
    "\n",
    "We can loop through a dictionary by using a for loop."
   ]
  },
  {
   "cell_type": "code",
   "execution_count": 18,
   "metadata": {},
   "outputs": [
    {
     "name": "stdout",
     "output_type": "stream",
     "text": [
      "name\n",
      "age\n",
      "country\n"
     ]
    }
   ],
   "source": [
    "# all key names in the dictionary, one by one\n",
    "info = {\"name\": \"sachin\", \n",
    "        \"age\": 24,\n",
    "        \"country\": \"india\"}\n",
    "\n",
    "for x in info:\n",
    "    print(x)"
   ]
  },
  {
   "cell_type": "code",
   "execution_count": 19,
   "metadata": {},
   "outputs": [
    {
     "name": "stdout",
     "output_type": "stream",
     "text": [
      "sachin\n",
      "24\n",
      "india\n"
     ]
    }
   ],
   "source": [
    "# Print all values\n",
    "for x in info:\n",
    "    print(info[x])"
   ]
  },
  {
   "cell_type": "code",
   "execution_count": 20,
   "metadata": {},
   "outputs": [
    {
     "name": "stdout",
     "output_type": "stream",
     "text": [
      "name\n",
      "age\n",
      "country\n",
      "sachin\n",
      "24\n",
      "india\n"
     ]
    }
   ],
   "source": [
    "# we can use key() to return  key names.\n",
    "for x in info.keys():\n",
    "  print(x)\n",
    "\n",
    "# we can use values() method   to return values \n",
    "for x in info.values():\n",
    "  print(x)"
   ]
  },
  {
   "cell_type": "code",
   "execution_count": 21,
   "metadata": {},
   "outputs": [
    {
     "name": "stdout",
     "output_type": "stream",
     "text": [
      "name sachin\n",
      "age 24\n",
      "country india\n"
     ]
    }
   ],
   "source": [
    "# Loop through both keys and values, by using the items() method\n",
    "\n",
    "for x, y in info.items():\n",
    "  print(x, y)\n"
   ]
  },
  {
   "cell_type": "markdown",
   "metadata": {},
   "source": [
    "if need to copy the Dictionary we can  use the built-in Dictionary method copy(). and dict() function."
   ]
  },
  {
   "cell_type": "code",
   "execution_count": 22,
   "metadata": {},
   "outputs": [
    {
     "name": "stdout",
     "output_type": "stream",
     "text": [
      "{'brand': 'Ford', 'model': 'Mustang', 'year': 1964}\n",
      "{'brand': 'Ford', 'model': 'Mustang', 'year': 1964}\n"
     ]
    }
   ],
   "source": [
    "#with the help of  copy():\n",
    "\n",
    "car = {\n",
    "  \"brand\": \"Ford\",\n",
    "  \"model\": \"Mustang\",\n",
    "  \"year\": 1964\n",
    "}\n",
    "mycar = car.copy()\n",
    "print(mycar)\n",
    "\n",
    "\n",
    "# with The help of dict() function.\n",
    "car = {\n",
    "  \"brand\": \"Ford\",\n",
    "  \"model\": \"Mustang\",\n",
    "  \"year\": 1964\n",
    "}\n",
    "mycar_1=dict(car)\n",
    "print(mycar_1)\n"
   ]
  },
  {
   "cell_type": "markdown",
   "metadata": {},
   "source": [
    "## Nested Dictionaries:\n",
    "\n",
    "\n",
    "- A dictionary can contain dictionaries, this is called nested dictionaries.\n"
   ]
  },
  {
   "cell_type": "code",
   "execution_count": 23,
   "metadata": {},
   "outputs": [
    {
     "name": "stdout",
     "output_type": "stream",
     "text": [
      "{'child1': {'name': 'Emil', 'year': 2004}, 'child2': {'name': 'Tobias', 'year': 2007}, 'child3': {'name': 'Linus', 'year': 2011}}\n"
     ]
    }
   ],
   "source": [
    "myfamily = {\n",
    "  \"child1\" : {\n",
    "    \"name\" : \"Emil\",\n",
    "    \"year\" : 2004\n",
    "  },\n",
    "  \"child2\" : {\n",
    "    \"name\" : \"Tobias\",\n",
    "    \"year\" : 2007\n",
    "  },\n",
    "  \"child3\" : {\n",
    "    \"name\" : \"Linus\",\n",
    "    \"year\" : 2011\n",
    "  }\n",
    "}\n",
    "\n",
    "print(myfamily)"
   ]
  },
  {
   "cell_type": "markdown",
   "metadata": {},
   "source": [
    "- Or if we want to add three dictionaries into a new dictionary"
   ]
  },
  {
   "cell_type": "code",
   "execution_count": 24,
   "metadata": {},
   "outputs": [
    {
     "name": "stdout",
     "output_type": "stream",
     "text": [
      "{'child1': {'name': 'Emil', 'year': 2004}, 'child2': {'name': 'Tobias', 'year': 2007}, 'child3': {'name': 'Linus', 'year': 2011}}\n"
     ]
    }
   ],
   "source": [
    "child1 = {\"name\" : \"Emil\",\"year\" : 2004}\n",
    "child2 ={\"name\" : \"Tobias\",\"year\" : 2007}\n",
    "child3 = {\"name\" : \"Linus\", \"year\" : 2011}\n",
    "myfamily = {\n",
    "  \"child1\" : child1,\n",
    "  \"child2\" : child2,\n",
    "  \"child3\" : child3\n",
    "}\n",
    "print(myfamily)"
   ]
  },
  {
   "cell_type": "code",
   "execution_count": 25,
   "metadata": {},
   "outputs": [
    {
     "name": "stdout",
     "output_type": "stream",
     "text": [
      "Tobias\n"
     ]
    }
   ],
   "source": [
    "# Print the name of child 2.\n",
    "print(myfamily[\"child2\"][\"name\"])"
   ]
  },
  {
   "cell_type": "code",
   "execution_count": null,
   "metadata": {},
   "outputs": [],
   "source": []
  }
 ],
 "metadata": {
  "kernelspec": {
   "display_name": "Python 3",
   "language": "python",
   "name": "python3"
  },
  "language_info": {
   "codemirror_mode": {
    "name": "ipython",
    "version": 3
   },
   "file_extension": ".py",
   "mimetype": "text/x-python",
   "name": "python",
   "nbconvert_exporter": "python",
   "pygments_lexer": "ipython3",
   "version": "3.7.3"
  }
 },
 "nbformat": 4,
 "nbformat_minor": 2
}
