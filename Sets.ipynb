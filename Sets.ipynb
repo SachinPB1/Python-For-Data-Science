{
 "cells": [
  {
   "cell_type": "markdown",
   "metadata": {},
   "source": [
    "# Python Sets:\n",
    "\n",
    "\n",
    "\n",
    "A set is a collection of unique data, meaning that elements within a set cannot be duplicated.\n",
    "\n",
    "\n",
    "For instance, if we need to store information about student IDs, a set is suitable since student IDs cannot have duplicates.\n",
    "\n",
    "In Python, we create sets by placing all the elements inside curly braces {}, separated by commas.\n",
    "\n",
    "A set can have any number of items and they may be of different types (integer, float, tuple, string, etc.). But a set cannot have mutable elements like lists, sets or dictionaries as its elements.\n",
    "\n",
    "\n",
    "## Characteristics:\n",
    "         \n",
    "- Sets are unordered :- items in a set do not have a defined order.\n",
    "  Set items can appear in a different order every time you use them, and cannot be referred to by index or key.\n",
    "\n",
    "- Set elements are unique:-  Duplicate elements are not allowed.\n",
    "\n",
    "- Unchangeable:-   Set items are unchangeable, meaning that we cannot change the items after the set has been created.\n",
    "\n",
    "### NOTE:-  \n",
    "- Once a set is created, you cannot change its items, but you can remove items and add new items.\n",
    "\n",
    "- The values True and 1 are considered the same value in sets, and are treated as duplicates:\n",
    "\n",
    "- The values False and 0 are considered the same value in sets, and are treated as duplicates:\n"
   ]
  },
  {
   "cell_type": "code",
   "execution_count": 1,
   "metadata": {},
   "outputs": [
    {
     "name": "stdout",
     "output_type": "stream",
     "text": [
      "{'Hassan', 'Mangaluru', 'Sakaleshpur', 'Bengaluru', 'Mysore'}\n",
      "{112, 114, 115, 116, 118}\n",
      "{'Hello', 101, -2, 'Bye'}\n"
     ]
    }
   ],
   "source": [
    "#  create a set of string type\n",
    "\n",
    "citys={\"Bengaluru\",\"Mangaluru\",\"Mysore\",\"Sakaleshpur\",\"Hassan\"}\n",
    "print(citys)\n",
    "\n",
    "# create a set of integer type\n",
    "id = {112, 114, 116, 118, 115}\n",
    "print(id)\n",
    "\n",
    "\n",
    "# create a set of mixed data types\n",
    "mixed = {'Hello', 101, -2, 'Bye'}\n",
    "print(mixed)"
   ]
  },
  {
   "cell_type": "markdown",
   "metadata": {},
   "source": [
    "True and 1 is considered the same value In sets"
   ]
  },
  {
   "cell_type": "code",
   "execution_count": 2,
   "metadata": {},
   "outputs": [
    {
     "name": "stdout",
     "output_type": "stream",
     "text": [
      "{True, 2, 'cherry', 'apple', 'banana'}\n"
     ]
    }
   ],
   "source": [
    "set = {\"apple\", \"banana\", \"cherry\", True, 1, 2}\n",
    "\n",
    "print(set)"
   ]
  },
  {
   "cell_type": "markdown",
   "metadata": {},
   "source": [
    "False and 0 is considered the same value"
   ]
  },
  {
   "cell_type": "code",
   "execution_count": 3,
   "metadata": {},
   "outputs": [
    {
     "name": "stdout",
     "output_type": "stream",
     "text": [
      "{False, True, 'cherry', 'apple', 'banana'}\n"
     ]
    }
   ],
   "source": [
    "set = {\"apple\", \"banana\", \"cherry\", False, True, 0}\n",
    "\n",
    "print(set)"
   ]
  },
  {
   "cell_type": "markdown",
   "metadata": {},
   "source": [
    "#### Duplicate Items in a Set"
   ]
  },
  {
   "cell_type": "code",
   "execution_count": 4,
   "metadata": {},
   "outputs": [
    {
     "name": "stdout",
     "output_type": "stream",
     "text": [
      "{8, 2, 4, 6}\n"
     ]
    }
   ],
   "source": [
    "numbers = {2, 4, 6, 6, 2, 8}\n",
    "print(numbers)\n",
    "\n",
    "\n",
    "# Here,  we can see OUTPUT there are no duplicate items in the set as a set cannot contain duplicates.\n",
    "\n"
   ]
  },
  {
   "cell_type": "code",
   "execution_count": 5,
   "metadata": {},
   "outputs": [
    {
     "name": "stdout",
     "output_type": "stream",
     "text": [
      "5\n"
     ]
    }
   ],
   "source": [
    "#  with the help of  len() function. To determine how many items a set\n",
    "\n",
    "citys={\"Bengaluru\",\"Mangaluru\",\"Mysore\",\"Sakaleshpur\",\"Hassan\"}\n",
    "print(len(citys))"
   ]
  },
  {
   "cell_type": "code",
   "execution_count": 6,
   "metadata": {},
   "outputs": [
    {
     "name": "stdout",
     "output_type": "stream",
     "text": [
      "<class 'set'>\n"
     ]
    }
   ],
   "source": [
    "#  with the type() we can find out data type\n",
    "citys={\"Bengaluru\",\"Mangaluru\",\"Mysore\",\"Sakaleshpur\",\"Hassan\"}\n",
    "print(type(citys))\n"
   ]
  },
  {
   "cell_type": "markdown",
   "metadata": {},
   "source": [
    "## Access Items:\n",
    "      \n",
    "      we cannot access items in a set by referring to an index or a key.\n",
    "      Once a set is created, we cannot change its items, but you can add new items.\n",
    "      \n",
    "      \n",
    "#### NOTE;\n",
    "\n",
    "- we can loop through the set items using a for loop, or ask if a specified value is present in a set, by using the in keyword."
   ]
  },
  {
   "cell_type": "code",
   "execution_count": 7,
   "metadata": {},
   "outputs": [
    {
     "name": "stdout",
     "output_type": "stream",
     "text": [
      "tejas\n",
      "sachin\n",
      "samskruthi\n"
     ]
    }
   ],
   "source": [
    "names = {\"sachin\",\"samskruthi\",\"tejas\"}\n",
    "\n",
    "for x in names:\n",
    "  print(x)\n"
   ]
  },
  {
   "cell_type": "code",
   "execution_count": 8,
   "metadata": {},
   "outputs": [
    {
     "name": "stdout",
     "output_type": "stream",
     "text": [
      "True\n"
     ]
    }
   ],
   "source": [
    "# Check if \"sachin\" is present in the set:\n",
    "\n",
    "print(\"sachin\" in  names)"
   ]
  },
  {
   "cell_type": "code",
   "execution_count": 9,
   "metadata": {},
   "outputs": [
    {
     "name": "stdout",
     "output_type": "stream",
     "text": [
      "False\n"
     ]
    }
   ],
   "source": [
    "print(\"sachin\" not in names)"
   ]
  },
  {
   "cell_type": "markdown",
   "metadata": {},
   "source": [
    "## Add Set Items:\n",
    "\n",
    "- In Python, we use the add() method to add an item to a set.\n",
    "- The update() method is used to add items from another set into the current set and update the set with items other\n",
    "   collection types (lists, tuples, sets, etc)."
   ]
  },
  {
   "cell_type": "code",
   "execution_count": 10,
   "metadata": {},
   "outputs": [
    {
     "name": "stdout",
     "output_type": "stream",
     "text": [
      "{34, 12, 563, 21, 54}\n"
     ]
    }
   ],
   "source": [
    "#  with the help of  add() method we can  add item To set.\n",
    "\n",
    "numbers = {21, 34, 54, 12}\n",
    "\n",
    "numbers.add(563)   #  add 563 to set using add() method\n",
    "print(numbers)"
   ]
  },
  {
   "cell_type": "code",
   "execution_count": 11,
   "metadata": {},
   "outputs": [
    {
     "name": "stdout",
     "output_type": "stream",
     "text": [
      "{34, 21, 54, 'darshan', 'tejas', 12, 'sachin'}\n"
     ]
    }
   ],
   "source": [
    "# with the help of update() method Add items from another set into the current set\n",
    "\n",
    "numbers = {21, 34, 54, 12}\n",
    "names = {\"sachin\",\"tejas\",\"darshan\"}\n",
    "numbers.update(names)\n",
    "print(numbers)\n"
   ]
  },
  {
   "cell_type": "code",
   "execution_count": 12,
   "metadata": {},
   "outputs": [
    {
     "name": "stdout",
     "output_type": "stream",
     "text": [
      "{'Lacoste', 'Amazon', 'Ralph Lauren', 'google', 'apple'}\n"
     ]
    }
   ],
   "source": [
    "#  we can update the set with items other collection types (lists, tuples, sets, etc).\n",
    "\n",
    "companies = {'Lacoste', 'Ralph Lauren'}    # set\n",
    "\n",
    "tech_companies = ['apple', 'google', 'Amazon']  # list\n",
    "\n",
    "companies.update(tech_companies)\n",
    "print(companies)\n",
    " "
   ]
  },
  {
   "cell_type": "code",
   "execution_count": 13,
   "metadata": {},
   "outputs": [
    {
     "name": "stdout",
     "output_type": "stream",
     "text": [
      "{'cherry', 'banana', 'apple'}\n"
     ]
    }
   ],
   "source": [
    "thisset = {\"apple\", \"banana\", \"cherry\"}\n",
    "\n",
    "thisset.discard(\"Sachin\")\n",
    "\n",
    "print(thisset)"
   ]
  },
  {
   "cell_type": "markdown",
   "metadata": {},
   "source": [
    "## Remove an Element from a Set:\n",
    "\n",
    "We  can use the discard() or remove() method to remove the specified element from a set.\n",
    "- remove() \n",
    "-  discard()"
   ]
  },
  {
   "cell_type": "code",
   "execution_count": 14,
   "metadata": {},
   "outputs": [
    {
     "name": "stdout",
     "output_type": "stream",
     "text": [
      "{'Amazon', 'google'}\n"
     ]
    }
   ],
   "source": [
    "# With The help od remove() we can Remove elements.\n",
    "companies = {'apple', 'google', 'Amazon'}\n",
    "\n",
    "companies.remove(\"apple\")\n",
    "\n",
    "print(companies)"
   ]
  },
  {
   "cell_type": "markdown",
   "metadata": {},
   "source": [
    "##### Notes: \n",
    "- If the item to remove does not exist, remove() will raise an error.\n",
    "- If the item to remove does not exist, discard() will NOT raise an error.\n"
   ]
  },
  {
   "cell_type": "code",
   "execution_count": 15,
   "metadata": {},
   "outputs": [
    {
     "name": "stdout",
     "output_type": "stream",
     "text": [
      "{'Python', 'R'}\n"
     ]
    }
   ],
   "source": [
    "# With the help of discard() we can Remove elements.\n",
    "\n",
    "languages = {'R', 'Java', 'Python'}\n",
    "\n",
    "languages.discard(\"Java\")\n",
    "\n",
    "print(languages)"
   ]
  },
  {
   "cell_type": "code",
   "execution_count": 16,
   "metadata": {},
   "outputs": [
    {
     "name": "stdout",
     "output_type": "stream",
     "text": [
      "set()\n"
     ]
    }
   ],
   "source": [
    "# The clear() method empties the set\n",
    "\n",
    "set = {\"apple\", \"banana\", \"cherry\"}\n",
    "\n",
    "set.clear()\n",
    "\n",
    "print(set)\n"
   ]
  },
  {
   "cell_type": "code",
   "execution_count": 17,
   "metadata": {},
   "outputs": [
    {
     "name": "stdout",
     "output_type": "stream",
     "text": [
      "<class 'set'>\n"
     ]
    }
   ],
   "source": [
    "# del keyword will delete the set completely\n",
    "\n",
    "set = {\"apple\", \"banana\", \"cherry\"}\n",
    "\n",
    "del set\n",
    "\n",
    "print(set)\n"
   ]
  },
  {
   "cell_type": "markdown",
   "metadata": {},
   "source": [
    "## Python Set Operations  (Join Sets):\n",
    "\n",
    "There are several ways to join two or more sets in Python.\n",
    "\n",
    "- The union() and update() methods joins all items from both sets without duplicates\n",
    "\n",
    "\n",
    "\n",
    "- The intersection() of two sets is the set that contains all of the common elements of both sets.\n",
    "\n",
    "\n",
    "\n",
    "- The difference() method keeps the items from the first set that are not in the other set(s).\n",
    "\n",
    "\n",
    "\n",
    "- The symmetric_difference() method keeps all items EXCEPT the duplicates.\n",
    "\n"
   ]
  },
  {
   "cell_type": "markdown",
   "metadata": {},
   "source": [
    "### Set Union:\n",
    "\n",
    "\n",
    "To find the union of two Python sets, use the union() method or     the | syntax."
   ]
  },
  {
   "cell_type": "code",
   "execution_count": 18,
   "metadata": {},
   "outputs": [
    {
     "name": "stdout",
     "output_type": "stream",
     "text": [
      "{33, 22, 54, 75, 11}\n",
      "{33, 22, 54, 75, 11}\n"
     ]
    }
   ],
   "source": [
    "# with the help of union () method.\n",
    "set1 = {11, 22, 33}\n",
    "set2 = {33, 54, 75}\n",
    "set3 = set1.union(set2)\n",
    "print(set3)\n",
    "\n",
    "# with the help of  | syntax.\n",
    "\n",
    "set1 = {11, 22, 33}\n",
    "set2 = {33, 54, 75}\n",
    "set3 = set1|set2\n",
    "print(set3)\n",
    "\n",
    "# Here 33 is contain set1 and set2 bu In out put 33 present in single Time."
   ]
  },
  {
   "cell_type": "markdown",
   "metadata": {},
   "source": [
    "### Update"
   ]
  },
  {
   "cell_type": "code",
   "execution_count": 19,
   "metadata": {},
   "outputs": [
    {
     "name": "stdout",
     "output_type": "stream",
     "text": [
      "{33, 22, 54, 75, 11}\n"
     ]
    }
   ],
   "source": [
    "# with the help of union () method.\n",
    "set1 = {11, 22, 33}\n",
    "set2 = {33, 54, 75}\n",
    "set1.update(set2)\n",
    "print(set1)\n"
   ]
  },
  {
   "cell_type": "markdown",
   "metadata": {},
   "source": [
    "### Intersection:\n",
    "\n",
    "- the intersection() of two sets is the set that contains all of the common elements of both sets.\n",
    "\n",
    "\n",
    "- To find the intersection of two Python sets, we can either use the intersection() method or & operator.\n"
   ]
  },
  {
   "cell_type": "code",
   "execution_count": 20,
   "metadata": {},
   "outputs": [
    {
     "name": "stdout",
     "output_type": "stream",
     "text": [
      "{33}\n",
      "{33}\n"
     ]
    }
   ],
   "source": [
    "# Perform intersection operation using intersection()` method\n",
    "\n",
    "set1 = {11, 22, 33}\n",
    "set2 = {33, 54, 75}\n",
    "\n",
    "set3 = set1.intersection(set2)\n",
    "\n",
    "print(set3)\n",
    "\n",
    "\n",
    "#  Perform intersection operation using the `&` operator\n",
    "\n",
    "set1 = {11, 22, 33}\n",
    "set2 = {33, 54, 75}\n",
    "\n",
    "set3 = set1&set2\n",
    "\n",
    "print(set3)\n",
    "\n",
    "# Keep ONLY the Duplicates"
   ]
  },
  {
   "cell_type": "markdown",
   "metadata": {},
   "source": [
    "### Difference:\n",
    "\n",
    "- The difference() method keeps the items from the first set that are not in the other set()\n",
    "\n",
    "- we can  use the difference() function or the – operator in python."
   ]
  },
  {
   "cell_type": "code",
   "execution_count": 21,
   "metadata": {},
   "outputs": [
    {
     "name": "stdout",
     "output_type": "stream",
     "text": [
      "{1, 2}\n",
      "{1, 2}\n"
     ]
    }
   ],
   "source": [
    "# Using the difference() method\n",
    "set1 = {1, 2, 3, 4, 5}\n",
    "set2 = {3, 4, 5, 6, 7}\n",
    "\n",
    "set3 = set1.difference(set2)\n",
    "print(set3)\n",
    "\n",
    "\n",
    "# Using the - operator\n",
    "\n",
    "set1 = {1, 2, 3, 4, 5}\n",
    "set2 = {3, 4, 5, 6, 7}\n",
    "\n",
    "set3 = set1-set2\n",
    "print(set3)"
   ]
  },
  {
   "cell_type": "markdown",
   "metadata": {},
   "source": [
    "### Symmetric Differences:\n",
    "\n",
    "- The symmetric_difference() method keeps all items EXCEPT the duplicates.\n",
    "\n",
    "- we can use symmetric difference() function or the ^ operator to achieve this."
   ]
  },
  {
   "cell_type": "code",
   "execution_count": 22,
   "metadata": {},
   "outputs": [
    {
     "name": "stdout",
     "output_type": "stream",
     "text": [
      "{1, 2, 6, 7}\n",
      "{1, 2, 6, 7}\n"
     ]
    }
   ],
   "source": [
    "# Using the symmetric_difference() method\n",
    "set1 = {1, 2, 3, 4, 5}\n",
    "set2 = {3, 4, 5, 6, 7}\n",
    "\n",
    "set3 = set1.symmetric_difference(set2)\n",
    "print(set3)\n",
    "\n",
    "\n",
    "# Using the ^ operator\n",
    "set4 = set1 ^ set2\n",
    "print(set4)"
   ]
  },
  {
   "cell_type": "markdown",
   "metadata": {},
   "source": [
    "## Other Set Operations in Python:\n",
    "\n",
    "\n",
    "###  Issubset:\n",
    "  The issubset() operation is used in Python to check whether a set is a subset of another set."
   ]
  },
  {
   "cell_type": "code",
   "execution_count": 23,
   "metadata": {},
   "outputs": [
    {
     "name": "stdout",
     "output_type": "stream",
     "text": [
      "True\n",
      "False\n"
     ]
    }
   ],
   "source": [
    "Set1 = {1, 2, 3, 4, 5}\n",
    "set2 = {2, 4}\n",
    "\n",
    "# Check if set2 is a subset of set1\n",
    "print(set2.issubset(set1))\n",
    "\n",
    "# Check if set1 is a subset of set2\n",
    "print(set1.issubset(set2))"
   ]
  },
  {
   "cell_type": "markdown",
   "metadata": {},
   "source": [
    "### Issuperset:\n",
    "\n",
    "The issuperset() operation in Python is used to check whether a set is a superset of another set.\n",
    "\n",
    "A superset is a set that contains all the elements of another set."
   ]
  },
  {
   "cell_type": "code",
   "execution_count": 24,
   "metadata": {},
   "outputs": [
    {
     "name": "stdout",
     "output_type": "stream",
     "text": [
      "True\n",
      "False\n"
     ]
    }
   ],
   "source": [
    "set1 = {1, 2, 3, 4, 5}\n",
    "set2 = {2, 4}\n",
    "\n",
    "# Check if set1 is a superset of set2\n",
    "print(set1.issuperset(set2))\n",
    "\n",
    "\n",
    "# Check if set2 is a superset of set1\n",
    "print(set2.issuperset(set1))"
   ]
  },
  {
   "cell_type": "markdown",
   "metadata": {},
   "source": [
    "###  Isdisjoint:\n",
    "\n",
    "The isdisjoint() operation in Python is used to check whether two sets have any common elements.\n",
    "\n",
    "If the two sets have no common elements, then they are said to be disjoint."
   ]
  },
  {
   "cell_type": "code",
   "execution_count": 25,
   "metadata": {},
   "outputs": [
    {
     "name": "stdout",
     "output_type": "stream",
     "text": [
      "True\n",
      "False\n"
     ]
    }
   ],
   "source": [
    "set1 = {1, 2, 3, 4, 5}\n",
    "set2 = {6, 7, 8}\n",
    "\n",
    "# Check if set1 and set2 are disjoint.\n",
    "print(set1.isdisjoint(set2))\n",
    "\n",
    "\n",
    "set3 = {4, 5, 6}\n",
    "set4 = {6, 7, 8}\n",
    "\n",
    "# Check if set3 and set4 are disjoint.\n",
    "print(set3.isdisjoint(set4))"
   ]
  },
  {
   "cell_type": "code",
   "execution_count": null,
   "metadata": {},
   "outputs": [],
   "source": []
  }
 ],
 "metadata": {
  "kernelspec": {
   "display_name": "Python 3",
   "language": "python",
   "name": "python3"
  },
  "language_info": {
   "codemirror_mode": {
    "name": "ipython",
    "version": 3
   },
   "file_extension": ".py",
   "mimetype": "text/x-python",
   "name": "python",
   "nbconvert_exporter": "python",
   "pygments_lexer": "ipython3",
   "version": "3.7.3"
  }
 },
 "nbformat": 4,
 "nbformat_minor": 5
}
