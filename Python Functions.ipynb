{
 "cells": [
  {
   "cell_type": "markdown",
   "metadata": {},
   "source": [
    "# Python Functions:\n",
    "\n",
    "\n",
    "A function is a block of code which only runs when it is called.\n",
    "\n",
    "To define a function, Python provides the def keyword. The following is the syntax of defining a function.\n",
    "\n",
    "\n",
    "**Syntax:**"
   ]
  },
  {
   "cell_type": "code",
   "execution_count": 1,
   "metadata": {},
   "outputs": [],
   "source": [
    "def function_name(parameters):\n",
    "    # What the function does goes here( body of statement)\n",
    "    return result "
   ]
  },
  {
   "cell_type": "code",
   "execution_count": 2,
   "metadata": {},
   "outputs": [
    {
     "name": "stdout",
     "output_type": "stream",
     "text": [
      "sachin\n"
     ]
    }
   ],
   "source": [
    "## with help of def we can create simple function.\n",
    "\n",
    "\n",
    "def my_fun():\n",
    "    print(\"sachin\")\n",
    "my_fun()\n",
    "    \n",
    "    \n",
    "# def :- keyword   is used to create  a function\n",
    "# my_fun :-  is name of function\n",
    "# sachin :- function Body\n",
    "# once we  create function  To use this function, we need to call the function.\n",
    "    "
   ]
  },
  {
   "cell_type": "code",
   "execution_count": 3,
   "metadata": {},
   "outputs": [
    {
     "name": "stdout",
     "output_type": "stream",
     "text": [
      "sachin\n",
      "gagan\n"
     ]
    }
   ],
   "source": [
    "def my_fun():\n",
    "    print(\"sachin\")\n",
    "    print(\"gagan\")\n",
    "my_fun()   "
   ]
  },
  {
   "cell_type": "markdown",
   "metadata": {},
   "source": [
    "## Python Function Arguments:\n",
    "\n",
    "Arguments are inputs given to the function.\n",
    "\n",
    "- Arguments are specified after the function name, inside the parentheses. \n",
    "- we can add as many arguments as you want, just separate them with a comma.\n",
    "\n",
    "Below  example The **greet() function** is now defined to receive a string **Arguments called name.** Inside the function, the print() statement is modified to display the greeting message addressed to the received parameter."
   ]
  },
  {
   "cell_type": "code",
   "execution_count": 4,
   "metadata": {},
   "outputs": [
    {
     "name": "stdout",
     "output_type": "stream",
     "text": [
      "Hello  sachin\n"
     ]
    }
   ],
   "source": [
    "def greet(name):  \n",
    "    print ('Hello ', name)\n",
    "\n",
    "greet(\"sachin\") # calling function with argument\n"
   ]
  },
  {
   "cell_type": "code",
   "execution_count": 5,
   "metadata": {},
   "outputs": [
    {
     "name": "stdout",
     "output_type": "stream",
     "text": [
      "Hello  sachin\n",
      "Hello  gagan\n",
      "Hello  tejas\n"
     ]
    }
   ],
   "source": [
    "def greet(name):  \n",
    "    print ('Hello ', name)\n",
    "\n",
    "greet(\"sachin\") \n",
    "greet(\"gagan\")\n",
    "greet(\"tejas\")"
   ]
  },
  {
   "cell_type": "markdown",
   "metadata": {},
   "source": [
    "**Number of Arguments**\n",
    "A function must be called with the correct number of arguments. Meaning that if your function expects 3 arguments, you have to call the function with 3 arguments,"
   ]
  },
  {
   "cell_type": "code",
   "execution_count": 6,
   "metadata": {},
   "outputs": [
    {
     "name": "stdout",
     "output_type": "stream",
     "text": [
      "Hello  sachin  ,  gagan , and  tejas\n"
     ]
    }
   ],
   "source": [
    "def greet(name1, name2, name3):  \n",
    "    print ('Hello ', name1, ' , ', name2 , ', and ', name3)\n",
    "\n",
    "greet('sachin', 'gagan', 'tejas')"
   ]
  },
  {
   "cell_type": "markdown",
   "metadata": {},
   "source": [
    "## Parameters and Arguments:\n",
    "\n",
    "**Parameters**\n",
    "\n",
    "- Parameters are the variables listed inside the parentheses in the function definition. \n",
    " "
   ]
  },
  {
   "cell_type": "code",
   "execution_count": 7,
   "metadata": {},
   "outputs": [],
   "source": [
    "def print_age(age): # age is a parameter\n",
    "    print(age)"
   ]
  },
  {
   "cell_type": "markdown",
   "metadata": {},
   "source": [
    "**Arguments**\n",
    "\n",
    "- Arguments are the actual values that we pass to the function when we call it.\n",
    "- Arguments replace the parameters when the function executes."
   ]
  },
  {
   "cell_type": "code",
   "execution_count": 8,
   "metadata": {},
   "outputs": [],
   "source": [
    "def print_age(age):  # age is a parameter\n",
    "    print(25)     # 25 is an argument"
   ]
  },
  {
   "cell_type": "markdown",
   "metadata": {},
   "source": [
    "## Types of Python Function Arguments:\n",
    "    \n",
    "    \n",
    "- Positional or Required Arguments\n",
    "- Keyword Arguments\n",
    "- Default Arguments\n",
    "- Positional-only arguments\n",
    "- Keyword-only arguments\n",
    "- Arbitrary or Variable-length Arguments\n"
   ]
  },
  {
   "cell_type": "markdown",
   "metadata": {},
   "source": [
    "## Arbitrary  Arguments:\n",
    "\n",
    "If you do not know how many arguments that will be passed into your function, add a * before the parameter name in the function definition.\n",
    "\n",
    "This way the function will receive a tuple of arguments, and can access the items accordingly:"
   ]
  },
  {
   "cell_type": "code",
   "execution_count": 9,
   "metadata": {},
   "outputs": [
    {
     "name": "stdout",
     "output_type": "stream",
     "text": [
      "10\n"
     ]
    }
   ],
   "source": [
    "# function to sum any number of arguments\n",
    "def add(*numbers):\n",
    "    return sum(numbers)\n",
    "\n",
    "# pass any number of arguments\n",
    "print(add(1, 2, 3, 4))   "
   ]
  },
  {
   "cell_type": "markdown",
   "metadata": {},
   "source": [
    "## Keyword Arguments:\n",
    "\n",
    "**Keyword arguments** are related to the function calls. When you use keyword arguments in a function call, the caller identifies the arguments by the parameter name"
   ]
  },
  {
   "cell_type": "code",
   "execution_count": 10,
   "metadata": {},
   "outputs": [
    {
     "name": "stdout",
     "output_type": "stream",
     "text": [
      "Hello patla sachin\n"
     ]
    }
   ],
   "source": [
    "def greet(firstname, lastname):\n",
    "    print ('Hello', firstname, lastname)\n",
    "\n",
    "greet(lastname='sachin', firstname='patla')"
   ]
  },
  {
   "cell_type": "markdown",
   "metadata": {},
   "source": [
    "## Default Arguments:\n",
    "\n",
    "The following example shows how to use a default parameter value.\n",
    "\n",
    "If we call the function without argument, it uses the default value:"
   ]
  },
  {
   "cell_type": "code",
   "execution_count": 11,
   "metadata": {},
   "outputs": [
    {
     "name": "stdout",
     "output_type": "stream",
     "text": [
      "I am from  karnataka\n",
      "I am from  Kerala\n",
      "I am from  Tamil Nadu\n",
      "I am from  Goa\n"
     ]
    }
   ],
   "source": [
    "def my_fun(state = \"karnataka\"):\n",
    "  print(\"I am from \" , state)\n",
    "\n",
    "my_fun()\n",
    "my_fun(\"Kerala\")\n",
    "my_fun(\"Tamil Nadu\")\n",
    "my_fun(\"Goa\")"
   ]
  },
  {
   "cell_type": "code",
   "execution_count": 12,
   "metadata": {},
   "outputs": [
    {
     "data": {
      "text/plain": [
       "9"
      ]
     },
     "execution_count": 12,
     "metadata": {},
     "output_type": "execute_result"
    }
   ],
   "source": [
    "# Find square of num\n",
    "\n",
    "def find_square(num = 3 ):   # here num takes the default value 3\n",
    "    result = num * num\n",
    "    return result\n",
    "\n",
    "find_square()"
   ]
  },
  {
   "cell_type": "markdown",
   "metadata": {},
   "source": [
    "## Keyword-Only Arguments:\n",
    "\n",
    "\n",
    "- Those arguments that must be specified by their name while calling the function is known as Keyword-only arguments. \n",
    "\n",
    "- They are defined by placing an asterisk (\"*\") in the function's parameter list **before any keyword-only parameters**. "
   ]
  },
  {
   "cell_type": "code",
   "execution_count": 13,
   "metadata": {},
   "outputs": [
    {
     "name": "stdout",
     "output_type": "stream",
     "text": [
      "240\n"
     ]
    }
   ],
   "source": [
    "def Fun(*, num1, num2, num3):\n",
    "    print(num1 * num2 * num3)\n",
    "\n",
    "Fun(num1=6, num2=8, num3=5) "
   ]
  },
  {
   "cell_type": "markdown",
   "metadata": {},
   "source": [
    "## Basic Python Functions task:"
   ]
  },
  {
   "cell_type": "markdown",
   "metadata": {},
   "source": [
    "**example 1 :  Write a Python function to sum all the numbers in a list.**"
   ]
  },
  {
   "cell_type": "code",
   "execution_count": 14,
   "metadata": {},
   "outputs": [
    {
     "name": "stdout",
     "output_type": "stream",
     "text": [
      "20\n"
     ]
    }
   ],
   "source": [
    "def sum(numbers):\n",
    "    # Initialize a variable 'total' to store the sum of numbers, starting at 0\n",
    "    total = 0\n",
    "    # Iterate through each element 'x' in the 'numbers' list\n",
    "    for x in numbers:\n",
    "         # Add the current element 'x' to the 'total'\n",
    "        total = total+ x\n",
    "    # Return the final sum stored in the 'total' variable\n",
    "    return total    \n",
    "    \n",
    "# Print the result of calling the 'sum' function with a tuple of numbers (8, 2, 3, 0, 7)\n",
    "print(sum((8, 2, 3, 0, 7)))     \n"
   ]
  },
  {
   "cell_type": "markdown",
   "metadata": {},
   "source": [
    "**example 2: Write a Python program to print the even numbers from a given list.**"
   ]
  },
  {
   "cell_type": "code",
   "execution_count": 15,
   "metadata": {},
   "outputs": [
    {
     "name": "stdout",
     "output_type": "stream",
     "text": [
      "[2, 4, 6, 8]\n"
     ]
    }
   ],
   "source": [
    "# Define a function named 'even_num' that takes a list 'l' as input and returns a list of even numbers\n",
    "def even_num(l):\n",
    "    # Create an empty list 'enum' to store even numbers\n",
    "    enum = []\n",
    "    # Iterate through each number 'n' in the input list 'l'\n",
    "    for n in l:\n",
    "        # Check if the number 'n' is even \n",
    "        if n % 2 == 0:\n",
    "            # If 'n' is even, append it to the 'enum' list\n",
    "            enum.append(n)\n",
    "    # Return the list 'enum' containing even numbers\n",
    "    return enum\n",
    "\n",
    "# calling the 'is_even_num' function with a list of numbers\n",
    "print(even_num([1, 2, 3, 4, 5, 6, 7, 8, 9])) "
   ]
  },
  {
   "cell_type": "code",
   "execution_count": 16,
   "metadata": {},
   "outputs": [
    {
     "name": "stdout",
     "output_type": "stream",
     "text": [
      "[0, 2, 4, 6, 8, 10, 12, 14, 16, 18]\n"
     ]
    }
   ],
   "source": [
    "#  with the  help of range fun\n",
    "\n",
    "print(even_num(list(range(0, 20))))"
   ]
  },
  {
   "cell_type": "code",
   "execution_count": null,
   "metadata": {},
   "outputs": [],
   "source": []
  },
  {
   "cell_type": "code",
   "execution_count": null,
   "metadata": {},
   "outputs": [],
   "source": []
  }
 ],
 "metadata": {
  "kernelspec": {
   "display_name": "Python 3",
   "language": "python",
   "name": "python3"
  },
  "language_info": {
   "codemirror_mode": {
    "name": "ipython",
    "version": 3
   },
   "file_extension": ".py",
   "mimetype": "text/x-python",
   "name": "python",
   "nbconvert_exporter": "python",
   "pygments_lexer": "ipython3",
   "version": "3.7.3"
  }
 },
 "nbformat": 4,
 "nbformat_minor": 2
}
