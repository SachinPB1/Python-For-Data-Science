{
 "cells": [
  {
   "cell_type": "markdown",
   "metadata": {},
   "source": [
    "# Python while Loop:\n",
    "\n",
    "Python has two primitive loop commands:\n",
    "- while loops\n",
    "- for loops\n",
    "\n",
    "\n",
    "In Python, we use the **while loop** to repeat a block of code until a certain condition is met.\n",
    "\n",
    "\n",
    "**Syntax**\n",
    "----->While condition:  # body of while loop\n",
    "\n",
    "Here,\n",
    "\n",
    "- The while loop evaluates the condition.\n",
    "- If the condition is true, body of while loop is executed. The condition is evaluated again.\n",
    "- This process continues until the condition is False.\n",
    "- Once the condition evaluates to False, the loop terminates.\n"
   ]
  },
  {
   "cell_type": "code",
   "execution_count": 1,
   "metadata": {},
   "outputs": [
    {
     "name": "stdout",
     "output_type": "stream",
     "text": [
      "1\n",
      "2\n",
      "3\n"
     ]
    }
   ],
   "source": [
    "#   print the numbers from 1 to 3\n",
    "number = 1\n",
    "\n",
    "while number <= 3:\n",
    "    print(number)\n",
    "    number = number + 1"
   ]
  },
  {
   "cell_type": "code",
   "execution_count": 2,
   "metadata": {},
   "outputs": [
    {
     "name": "stdout",
     "output_type": "stream",
     "text": [
      "1\n",
      "2\n",
      "3\n",
      "4\n",
      "5\n"
     ]
    }
   ],
   "source": [
    "# Print i as long as i is less than 6\n",
    "i = 1\n",
    "while   i < 6:\n",
    "    print(i)\n",
    "    i=i+1"
   ]
  },
  {
   "cell_type": "markdown",
   "metadata": {},
   "source": [
    "if the condition of a **while loop** is always True, the loop runs for infinite times, forming an infinite while loop."
   ]
  },
  {
   "cell_type": "markdown",
   "metadata": {},
   "source": [
    "## break Statement:\n",
    "\n",
    "We can use a break statement inside a **while loop** to terminate the loop immediately without checking the test condition.\n",
    "\n",
    "- (we can stop the loop even if the while condition is true)\n"
   ]
  },
  {
   "cell_type": "code",
   "execution_count": 3,
   "metadata": {},
   "outputs": [
    {
     "name": "stdout",
     "output_type": "stream",
     "text": [
      "1\n",
      "2\n",
      "3\n"
     ]
    }
   ],
   "source": [
    "# while  loops with  break  - Stop the iteration at 3.\n",
    "\n",
    "i = 1\n",
    "while i<6:\n",
    "    print(i)\n",
    "    if  i== 3:\n",
    "        break\n",
    "    i=i+1  "
   ]
  },
  {
   "cell_type": "markdown",
   "metadata": {},
   "source": [
    "## continue Statement:\n",
    "\n",
    "\n",
    "\n",
    "- With the **continue statement** we can stop the current iteration, and continue with the next.\n",
    "\n",
    "In the below  example, we have defined a while loop that runs as long as the value of x is less than 10. Inside the loop, we have added an if statement that checks whether the value of x is equal to 5. If the value of x is equal to 5, the continue statement is executed, and the program skips over the rest of the code in the current iteration and proceeds with the next iteration."
   ]
  },
  {
   "cell_type": "code",
   "execution_count": 4,
   "metadata": {},
   "outputs": [
    {
     "name": "stdout",
     "output_type": "stream",
     "text": [
      "1\n",
      "2\n",
      "3\n",
      "4\n",
      "6\n",
      "7\n",
      "8\n",
      "9\n",
      "10\n"
     ]
    }
   ],
   "source": [
    "# Skip the iteration when it is at 5.\n",
    "x = 0\n",
    "while x  <  10:\n",
    "    x = x+ 1\n",
    "    if x == 5:   # skip the value 5.\n",
    "        continue\n",
    "    print(x)"
   ]
  },
  {
   "cell_type": "markdown",
   "metadata": {},
   "source": [
    "## else Statement:\n",
    "\n",
    "In Python, a **while loop** can have an optional else clause - that is executed once the loop condition is False. "
   ]
  },
  {
   "cell_type": "code",
   "execution_count": 5,
   "metadata": {},
   "outputs": [
    {
     "name": "stdout",
     "output_type": "stream",
     "text": [
      "1\n",
      "2\n",
      "3\n",
      "4\n",
      "5\n",
      "i is no longer\n"
     ]
    }
   ],
   "source": [
    "i = 1\n",
    "while i<6:\n",
    "    print(i)\n",
    "    i = i+1\n",
    "else:\n",
    "        print(\"i is no longer\")"
   ]
  },
  {
   "cell_type": "markdown",
   "metadata": {},
   "source": [
    "## Basic programming tasks:\n",
    "\n",
    "\n",
    "**example- 1: Write  a program to print 1st 10 natural numbers in reverse  order using  while loop.**\n",
    "\n"
   ]
  },
  {
   "cell_type": "code",
   "execution_count": 6,
   "metadata": {},
   "outputs": [
    {
     "name": "stdout",
     "output_type": "stream",
     "text": [
      "10\n",
      "9\n",
      "8\n",
      "7\n",
      "6\n",
      "5\n",
      "4\n",
      "3\n",
      "2\n",
      "1\n"
     ]
    }
   ],
   "source": [
    "i= 10\n",
    "while i >=1:\n",
    "    print(i)\n",
    "    i= i-1"
   ]
  },
  {
   "cell_type": "markdown",
   "metadata": {},
   "source": [
    "**Example 2 : Write a program to print sum of 1st  10 natural numbers.**"
   ]
  },
  {
   "cell_type": "code",
   "execution_count": 7,
   "metadata": {},
   "outputs": [
    {
     "name": "stdout",
     "output_type": "stream",
     "text": [
      "55\n"
     ]
    }
   ],
   "source": [
    "i= 1\n",
    "sum = 0\n",
    "while i<=10:\n",
    "    sum=sum + i\n",
    "    i=i+1\n",
    "print(sum)"
   ]
  },
  {
   "cell_type": "markdown",
   "metadata": {},
   "source": [
    "**Example 3 : Write a program to print  first 10 even numbers**"
   ]
  },
  {
   "cell_type": "code",
   "execution_count": 16,
   "metadata": {},
   "outputs": [
    {
     "name": "stdout",
     "output_type": "stream",
     "text": [
      "0\n",
      "2\n",
      "4\n",
      "6\n",
      "8\n",
      "10\n",
      "12\n",
      "14\n",
      "16\n",
      "18\n"
     ]
    }
   ],
   "source": [
    "# Initialize variables\n",
    "num = 0  # Start with the first even number\n",
    "\n",
    "# Loop to print the first 10 even numbers\n",
    "while num < 20:  # We only need the first 10 even numbers, which are <= 20\n",
    "    print(num)\n",
    "    num = num+2  # Increment to the next even number"
   ]
  },
  {
   "cell_type": "code",
   "execution_count": 19,
   "metadata": {},
   "outputs": [
    {
     "name": "stdout",
     "output_type": "stream",
     "text": [
      "0\n",
      "2\n",
      "4\n",
      "6\n",
      "8\n",
      "10\n",
      "12\n",
      "14\n",
      "16\n",
      "18\n"
     ]
    }
   ],
   "source": [
    "# Initialize variables\n",
    "count = 0\n",
    "even_numbers_found = 0\n",
    "\n",
    "# While loop to find and print the first 10 even numbers\n",
    "while even_numbers_found < 10:\n",
    "    if count % 2 == 0:\n",
    "        print(count)\n",
    "        even_numbers_found = even_numbers_found +1\n",
    "    count =count+ 1"
   ]
  },
  {
   "cell_type": "markdown",
   "metadata": {},
   "source": [
    "**Example 4 : Write a program to print first 10   odd number  By using while loop**"
   ]
  },
  {
   "cell_type": "code",
   "execution_count": 10,
   "metadata": {},
   "outputs": [
    {
     "name": "stdout",
     "output_type": "stream",
     "text": [
      "1\n",
      "3\n",
      "5\n",
      "7\n",
      "9\n",
      "11\n",
      "13\n",
      "15\n",
      "17\n",
      "19\n"
     ]
    }
   ],
   "source": [
    "# Initialize variables\n",
    "num = 1         # Start with the first odd number\n",
    "count = 0       # Initialize count of odd numbers found\n",
    "\n",
    "# Loop to print the first 10 odd numbers\n",
    "while count < 10:\n",
    "    if num % 2 != 0:  # Check if num is odd\n",
    "        print(num)\n",
    "        count =count+ 1    # Increment count of odd numbers found\n",
    "    num = num +1          # Move to the next number"
   ]
  },
  {
   "cell_type": "code",
   "execution_count": null,
   "metadata": {},
   "outputs": [],
   "source": []
  }
 ],
 "metadata": {
  "kernelspec": {
   "display_name": "Python 3",
   "language": "python",
   "name": "python3"
  },
  "language_info": {
   "codemirror_mode": {
    "name": "ipython",
    "version": 3
   },
   "file_extension": ".py",
   "mimetype": "text/x-python",
   "name": "python",
   "nbconvert_exporter": "python",
   "pygments_lexer": "ipython3",
   "version": "3.7.3"
  }
 },
 "nbformat": 4,
 "nbformat_minor": 5
}
