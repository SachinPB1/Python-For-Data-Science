{
 "cells": [
  {
   "cell_type": "markdown",
   "metadata": {},
   "source": [
    "# Python Lists\n",
    "\n",
    "\n",
    "In Python, lists allow us to store a multiple of items in a single variable.\n",
    "\n",
    "We create a list by placing elements inside square brackets [ ]\n",
    "\n",
    "\n",
    "### List Characteristics\n",
    "\n",
    "- Ordered  :- They maintain the order of elements.\n",
    "- Changeable  :- meaning that we can change, add, and remove items in a list after it has been created.\n",
    "- Allow duplicates :- They can contain duplicate values.\n"
   ]
  },
  {
   "cell_type": "code",
   "execution_count": 1,
   "metadata": {},
   "outputs": [
    {
     "name": "stdout",
     "output_type": "stream",
     "text": [
      "['sachin', 'samskruthi', 'shetty', 'sai']\n",
      "[24, 24, 25, 26]\n"
     ]
    }
   ],
   "source": [
    "# In list we can store strings, integers,boolean  also\n",
    "\n",
    "names=[\"sachin\",\"samskruthi\",\"shetty\",\"sai\"]\n",
    "print(names)\n",
    "age=[24,24,25,26]\n",
    "print(age)"
   ]
  },
  {
   "cell_type": "code",
   "execution_count": 2,
   "metadata": {},
   "outputs": [
    {
     "name": "stdout",
     "output_type": "stream",
     "text": [
      "4\n"
     ]
    }
   ],
   "source": [
    "# To determine how many items a list has, use the len() function\n",
    "\n",
    "names=[\"sachin\",\"samskruthi\",\"shetty\",\"sai\"]\n",
    "print(len(names))\n"
   ]
  },
  {
   "cell_type": "code",
   "execution_count": 3,
   "metadata": {},
   "outputs": [
    {
     "name": "stdout",
     "output_type": "stream",
     "text": [
      "<class 'list'>\n"
     ]
    }
   ],
   "source": [
    "# with The help of type() function we can find data type of a list\n",
    "\n",
    "names=[\"sachin\",\"samskruthi\",\"shetty\",\"sai\"]\n",
    "print(type(names))"
   ]
  },
  {
   "cell_type": "code",
   "execution_count": 4,
   "metadata": {},
   "outputs": [
    {
     "name": "stdout",
     "output_type": "stream",
     "text": [
      "['apple', 'banana', 'cherry']\n"
     ]
    }
   ],
   "source": [
    "# use the list() constructor when creating a new list.\n",
    "\n",
    "fruits = list((\"apple\", \"banana\", \"cherry\"))      ##  use double round-brackets\n",
    "print(fruits)\n"
   ]
  },
  {
   "cell_type": "markdown",
   "metadata": {},
   "source": [
    "### Access List Items:\n",
    "\n",
    "Each element in a list is associated with a number, known as a index.\n",
    "\n",
    "example: \n",
    "\n",
    "List------------------> [\"apple\", \"banana\", \"cherry\"]\n",
    "\n",
    "Index----------------->    apple= 0,        banana= 1,       cherry= 2\n",
    "\n"
   ]
  },
  {
   "cell_type": "code",
   "execution_count": 5,
   "metadata": {},
   "outputs": [
    {
     "name": "stdout",
     "output_type": "stream",
     "text": [
      "Python\n",
      "JAVA\n"
     ]
    }
   ],
   "source": [
    "languages = ['Python', 'R', 'JAVA']\n",
    "\n",
    "# access the first element\n",
    "print(languages[0])   # Python\n",
    "\n",
    "\n",
    "# access the third element\n",
    "print(languages[2])   #JAVA"
   ]
  },
  {
   "cell_type": "markdown",
   "metadata": {},
   "source": [
    "\n",
    "Python also supports negative indexing. The index of the last element is -1, the second-last element is -2, and so on.\n"
   ]
  },
  {
   "cell_type": "code",
   "execution_count": 6,
   "metadata": {},
   "outputs": [
    {
     "name": "stdout",
     "output_type": "stream",
     "text": [
      "JAVA\n",
      "Python\n"
     ]
    }
   ],
   "source": [
    "languages = ['Python', 'R', 'JAVA']\n",
    "\n",
    "# access item at index 0\n",
    "print(languages[-1])    # JAVA\n",
    "\n",
    "# access item at index 2\n",
    "print(languages[-3])   # Python"
   ]
  },
  {
   "cell_type": "markdown",
   "metadata": {},
   "source": [
    "In Python, it is possible to access a section of items from the list using the slicing operator :"
   ]
  },
  {
   "cell_type": "code",
   "execution_count": 7,
   "metadata": {},
   "outputs": [
    {
     "name": "stdout",
     "output_type": "stream",
     "text": [
      "['C', 'D', 'E']\n",
      "['F', 'G']\n",
      "['A', 'B', 'C', 'D', 'E', 'F', 'G']\n"
     ]
    }
   ],
   "source": [
    "Letters = ['A', 'B', 'C', 'D', 'E', 'F', 'G']\n",
    "\n",
    "# items from index 2 to index 4\n",
    "print(Letters[2:5])\n",
    "\n",
    "# items from index 5 to end\n",
    "print(Letters[5:])\n",
    "\n",
    "# items beginning to end\n",
    "print(Letters[:])"
   ]
  },
  {
   "cell_type": "markdown",
   "metadata": {},
   "source": [
    "### Change List Items:\n",
    "\n",
    "We can change the items of a list by assigning new values using the = operator.\n"
   ]
  },
  {
   "cell_type": "code",
   "execution_count": 8,
   "metadata": {},
   "outputs": [
    {
     "name": "stdout",
     "output_type": "stream",
     "text": [
      "['Mysore', 'Bangalore', 'Mangalore']\n",
      "['Mysore', 'Bangalore', 'Sakleshpur']\n"
     ]
    }
   ],
   "source": [
    "citys=[\"Mysore\",\"Bangalore\",\"Mangalore\"]\n",
    "print(citys)\n",
    "\n",
    "# changing the third item to 'Sakleshpur'\n",
    "citys[2]=\"Sakleshpur\"\n",
    "print(citys)\n",
    "\n",
    "\n",
    "#Here, we have replaced the city  'Mangalore' with 'Sakleshpur'"
   ]
  },
  {
   "cell_type": "code",
   "execution_count": 9,
   "metadata": {},
   "outputs": [
    {
     "name": "stdout",
     "output_type": "stream",
     "text": [
      "['Mysore', 'Bangalore', 'Hubli', 'Belgaum', 'Hassan']\n"
     ]
    }
   ],
   "source": [
    "# We can change the value of items within a specific range\n",
    "\n",
    "citys=[\"Mysore\",\"Bangalore\",\"Mangalore\",\"Sakleshpur\",\"Hassan\"]\n",
    "citys[2:4]=[\"Hubli\",\"Belgaum\"]\n",
    "print(citys)\n",
    "\n",
    "\n",
    "# here,change  the values \"Mangalore\"and \"Sakleshpur\" with the values \"Hubli\" and \"Belgaum\""
   ]
  },
  {
   "cell_type": "code",
   "execution_count": 10,
   "metadata": {},
   "outputs": [
    {
     "name": "stdout",
     "output_type": "stream",
     "text": [
      "['Mysore', 'sakleshpur']\n"
     ]
    }
   ],
   "source": [
    "# Change the second and third value by replacing it with one value\n",
    "\n",
    "citys=[\"Mysore\",\"Bangalore\",\"Mangalore\"]\n",
    "citys[1:3]=[\"sakleshpur\"]\n",
    "print(citys)\n"
   ]
  },
  {
   "cell_type": "markdown",
   "metadata": {},
   "source": [
    "### Add Elements to a Python List:\n",
    "\n",
    "We use the append() method to add an element to the end of a Python list. \n"
   ]
  },
  {
   "cell_type": "code",
   "execution_count": 11,
   "metadata": {},
   "outputs": [
    {
     "name": "stdout",
     "output_type": "stream",
     "text": [
      "['Mysore', 'Bangalore', 'sakleshpur', 'Hassan']\n"
     ]
    }
   ],
   "source": [
    "citys=[\"Mysore\",\"Bangalore\",\"sakleshpur\"]\n",
    "citys.append(\"Hassan\")\n",
    "print(citys)"
   ]
  },
  {
   "cell_type": "markdown",
   "metadata": {},
   "source": [
    "The insert() method adds an element at the specified index"
   ]
  },
  {
   "cell_type": "code",
   "execution_count": 12,
   "metadata": {},
   "outputs": [
    {
     "name": "stdout",
     "output_type": "stream",
     "text": [
      "['Mysore', 'Hassan', 'Bangalore', 'sakleshpur']\n"
     ]
    }
   ],
   "source": [
    "## insert 'Hassan' at index 2\n",
    "\n",
    "citys=[\"Mysore\",\"Bangalore\",\"sakleshpur\"]\n",
    "citys.insert(1,\"Hassan\")\n",
    "print(citys)"
   ]
  },
  {
   "cell_type": "markdown",
   "metadata": {},
   "source": [
    "\n",
    "We use the extend() method to add elements to a list from other iterablesm  ( other List or string).\n",
    "\n"
   ]
  },
  {
   "cell_type": "code",
   "execution_count": 13,
   "metadata": {},
   "outputs": [],
   "source": [
    "\n",
    "citys=[\"Mysore\",\"Bangalore\",\"sakleshpur\"]\n",
    "\n"
   ]
  },
  {
   "cell_type": "code",
   "execution_count": 14,
   "metadata": {},
   "outputs": [
    {
     "name": "stdout",
     "output_type": "stream",
     "text": [
      "['Mysore', 'Bangalore', 'sakleshpur', 'Tumakuru', 'Hassan']\n"
     ]
    }
   ],
   "source": [
    "#  With The help of extend() Method we can add any iterable object (string,tuples, sets, dictionaries etc.)\n",
    "\n",
    "citys=[\"Mysore\",\"Bangalore\",\"sakleshpur\"]\n",
    "citys_1=(\"Tumakuru\",\"Hassan\")\n",
    "citys.extend(citys_1)\n",
    "print(citys)"
   ]
  },
  {
   "cell_type": "markdown",
   "metadata": {},
   "source": [
    "### Remove an Item From a List:\n",
    "\n",
    "We can remove an item from a list using the remove() method."
   ]
  },
  {
   "cell_type": "code",
   "execution_count": 15,
   "metadata": {},
   "outputs": [
    {
     "name": "stdout",
     "output_type": "stream",
     "text": [
      "['Bangalore', 'sakleshpur']\n"
     ]
    }
   ],
   "source": [
    "# remove Mysore from the list\n",
    "\n",
    "citys=[\"Mysore\",\"Bangalore\",\"sakleshpur\"]\n",
    "citys.remove(\"Mysore\")\n",
    "print(citys)"
   ]
  },
  {
   "cell_type": "markdown",
   "metadata": {},
   "source": [
    "Remove Specified Index  \n",
    "\n",
    "With the help of pop() method removes the specified index."
   ]
  },
  {
   "cell_type": "code",
   "execution_count": 16,
   "metadata": {},
   "outputs": [
    {
     "name": "stdout",
     "output_type": "stream",
     "text": [
      "['Mysore', 'Bangalore']\n"
     ]
    }
   ],
   "source": [
    "\n",
    "citys=[\"Mysore\",\"Bangalore\",\"sakleshpur\"]\n",
    "citys.pop(2)\n",
    "print(citys)\n"
   ]
  },
  {
   "cell_type": "markdown",
   "metadata": {},
   "source": [
    "The del statement  also removes one or more specified items from a list."
   ]
  },
  {
   "cell_type": "code",
   "execution_count": 17,
   "metadata": {},
   "outputs": [
    {
     "name": "stdout",
     "output_type": "stream",
     "text": [
      "['Pepper', 'Turmeric']\n"
     ]
    }
   ],
   "source": [
    "spices = [\"Cardamom\", \"Pepper\", \"Turmeric\"]\n",
    "\n",
    "# deleting the 1st item.\n",
    "del spices[0]\n",
    "print(spices)\n",
    "\n",
    "\n"
   ]
  },
  {
   "cell_type": "markdown",
   "metadata": {},
   "source": [
    "### Python--Loop Lists:\n",
    "\n",
    "We can use a for loop to iterate over the elements of a list.\n",
    "\n"
   ]
  },
  {
   "cell_type": "code",
   "execution_count": 18,
   "metadata": {},
   "outputs": [
    {
     "name": "stdout",
     "output_type": "stream",
     "text": [
      "Mysore\n",
      "Bangalore\n",
      "sakleshpur\n"
     ]
    }
   ],
   "source": [
    "citys=[\"Mysore\",\"Bangalore\",\"sakleshpur\"]\n",
    "\n",
    "# iterate through the list\n",
    "for a in citys:\n",
    "    print(a)"
   ]
  },
  {
   "cell_type": "markdown",
   "metadata": {},
   "source": [
    " We can Use the range() and len() functions to create a suitable iterable."
   ]
  },
  {
   "cell_type": "code",
   "execution_count": 19,
   "metadata": {},
   "outputs": [
    {
     "name": "stdout",
     "output_type": "stream",
     "text": [
      "Mysore\n",
      "Bangalore\n",
      "sakleshpur\n"
     ]
    }
   ],
   "source": [
    "for a in range(len(citys)):\n",
    " print(citys[a])"
   ]
  },
  {
   "cell_type": "markdown",
   "metadata": {},
   "source": [
    "###  Using a While Loop:\n",
    "\n",
    "\n",
    "- we can loop through the list items by using a while loop.\n",
    "- Use the len() function to determine the length of the list.\n",
    "- then start at 0 and loop your way through the list items by referring to their indexes.\n",
    "- Remember to increase the index by 1 after each iteration."
   ]
  },
  {
   "cell_type": "code",
   "execution_count": 20,
   "metadata": {},
   "outputs": [],
   "source": [
    "citys=[\"Mysore\",\"Bangalore\",\"sakleshpur\"]"
   ]
  },
  {
   "cell_type": "code",
   "execution_count": 21,
   "metadata": {},
   "outputs": [
    {
     "name": "stdout",
     "output_type": "stream",
     "text": [
      "Mysore\n",
      "Bangalore\n",
      "sakleshpur\n"
     ]
    }
   ],
   "source": [
    "citys=[\"Mysore\",\"Bangalore\",\"sakleshpur\"]\n",
    "i = 0\n",
    "while i < len(citys):\n",
    "  print(citys[i])\n",
    "  i = i + 1"
   ]
  },
  {
   "cell_type": "markdown",
   "metadata": {},
   "source": [
    "### List Comprehension in Python:\n",
    "\n",
    "when  we want to create a new list based on the values of an existing list.\n",
    "\n",
    "\n",
    "\n",
    "###### Example:    \n",
    "           Based on a list of citys, we want a new list, containing only the citys with the letter \"s\" in the name."
   ]
  },
  {
   "cell_type": "code",
   "execution_count": 22,
   "metadata": {},
   "outputs": [],
   "source": [
    "citys=[\"Mysore\",\"Bangalore\",\"sakleshpur\"]"
   ]
  },
  {
   "cell_type": "code",
   "execution_count": 23,
   "metadata": {},
   "outputs": [
    {
     "name": "stdout",
     "output_type": "stream",
     "text": [
      "['Mysore']\n",
      "['Mysore']\n",
      "['Mysore', 'sakleshpur']\n"
     ]
    }
   ],
   "source": [
    "citys=[\"Mysore\",\"Bangalore\",\"sakleshpur\"]\n",
    "newlist=[]\n",
    "\n",
    "for x in citys:\n",
    "    if \"s\" in x:\n",
    "        newlist.append(x)\n",
    "    print(newlist) "
   ]
  },
  {
   "cell_type": "code",
   "execution_count": 24,
   "metadata": {},
   "outputs": [
    {
     "name": "stdout",
     "output_type": "stream",
     "text": [
      "['Mysore', 'sakleshpur']\n"
     ]
    }
   ],
   "source": [
    "# we can use all that with only one line of code. \n",
    "\n",
    "citys_1 = [x for x in citys if \"s\" in x]\n",
    "print(citys_1)"
   ]
  },
  {
   "cell_type": "code",
   "execution_count": 25,
   "metadata": {},
   "outputs": [
    {
     "name": "stdout",
     "output_type": "stream",
     "text": [
      "Bangalore\n",
      "sakleshpur\n"
     ]
    }
   ],
   "source": [
    "for x in citys:\n",
    "    if \"l\" in x:\n",
    "        print(x)"
   ]
  },
  {
   "cell_type": "markdown",
   "metadata": {},
   "source": [
    "####  new list Syntax  newlist = [expression for item in iterable if condition == True]\n",
    "\n",
    "The condition is like a filter that only accepts the items that valuate to True."
   ]
  },
  {
   "cell_type": "code",
   "execution_count": 26,
   "metadata": {},
   "outputs": [],
   "source": [
    "citys=[\"Mysore\",\"Bangalore\",\"sakleshpur\"]\n",
    "\n",
    "# create newlist.\n",
    "newlist = [x for x in citys if x != \"Mysore\"]"
   ]
  },
  {
   "cell_type": "code",
   "execution_count": 27,
   "metadata": {},
   "outputs": [
    {
     "name": "stdout",
     "output_type": "stream",
     "text": [
      "['Bangalore', 'sakleshpur']\n"
     ]
    }
   ],
   "source": [
    "print(newlist)"
   ]
  },
  {
   "cell_type": "code",
   "execution_count": 28,
   "metadata": {},
   "outputs": [
    {
     "name": "stdout",
     "output_type": "stream",
     "text": [
      "['Mysore', 'Bangalore', 'sakleshpur']\n"
     ]
    }
   ],
   "source": [
    "newlist = [x for x in citys]\n",
    "print(newlist)\n"
   ]
  },
  {
   "cell_type": "markdown",
   "metadata": {},
   "source": [
    "### Iterable:\n",
    "- The iterable can be any iterable object, like a list, tuple, set etc.\n",
    "- we can use the range() function to create an iterable:"
   ]
  },
  {
   "cell_type": "code",
   "execution_count": 29,
   "metadata": {},
   "outputs": [
    {
     "data": {
      "text/plain": [
       "[0, 1, 2, 3, 4, 5, 6, 7, 8, 9, 10, 11, 12, 13, 14, 15, 16, 17, 18, 19]"
      ]
     },
     "execution_count": 29,
     "metadata": {},
     "output_type": "execute_result"
    }
   ],
   "source": [
    "newlist = [x for x in range(20)]\n",
    "newlist"
   ]
  },
  {
   "cell_type": "code",
   "execution_count": 30,
   "metadata": {},
   "outputs": [
    {
     "data": {
      "text/plain": [
       "[0, 1, 2, 3, 4, 5, 6, 7, 8, 9]"
      ]
     },
     "execution_count": 30,
     "metadata": {},
     "output_type": "execute_result"
    }
   ],
   "source": [
    "# only numbers lower than 10:\n",
    "\n",
    "\n",
    "newlist = [x for x in range(10) if x < 10]\n",
    "newlist"
   ]
  },
  {
   "cell_type": "code",
   "execution_count": 31,
   "metadata": {},
   "outputs": [
    {
     "name": "stdout",
     "output_type": "stream",
     "text": [
      "0\n",
      "1\n",
      "2\n",
      "3\n",
      "4\n",
      "5\n",
      "6\n",
      "7\n",
      "8\n",
      "9\n",
      "10\n",
      "11\n",
      "12\n",
      "13\n",
      "14\n"
     ]
    }
   ],
   "source": [
    "for x in range(15):\n",
    "    print(x)"
   ]
  },
  {
   "cell_type": "markdown",
   "metadata": {},
   "source": [
    "### Expression:\n",
    "\n",
    "The expression is the current item in the iteration, but it is also the outcome, which we can manipulate before it ends up like a list item in the new list."
   ]
  },
  {
   "cell_type": "code",
   "execution_count": 32,
   "metadata": {},
   "outputs": [
    {
     "data": {
      "text/plain": [
       "['MYSORE', 'BANGALORE', 'SAKLESHPUR']"
      ]
     },
     "execution_count": 32,
     "metadata": {},
     "output_type": "execute_result"
    }
   ],
   "source": [
    "# Set the values in the new list to upper case: \n",
    "\n",
    "citys=[\"Mysore\",\"Bangalore\",\"sakleshpur\"]\n",
    "newlist=[x.upper()  for x in citys]\n",
    "newlist"
   ]
  },
  {
   "cell_type": "code",
   "execution_count": 33,
   "metadata": {},
   "outputs": [
    {
     "data": {
      "text/plain": [
       "['Hassan', 'Hassan', 'Hassan']"
      ]
     },
     "execution_count": 33,
     "metadata": {},
     "output_type": "execute_result"
    }
   ],
   "source": [
    "newlist = ['Hassan' for x in citys]\n",
    "newlist"
   ]
  },
  {
   "cell_type": "markdown",
   "metadata": {},
   "source": [
    "##  Python List sort():\n",
    "\n",
    "The list's sort() method sorts the elements of a list\n",
    "\n",
    "The sort() method can take two optional keyword arguments:\n",
    "- reverse - By default False. If True is passed, the list is sorted in descending order.\n",
    "- key - Comparion is based on this function.\n"
   ]
  },
  {
   "cell_type": "code",
   "execution_count": 34,
   "metadata": {},
   "outputs": [
    {
     "name": "stdout",
     "output_type": "stream",
     "text": [
      "['arjun', 'gagan', 'nihal', 'sachin', 'samskruthi']\n"
     ]
    }
   ],
   "source": [
    "# Sort the list alphabetically\n",
    "\n",
    "names= [\"sachin\",\"arjun\",\"gagan\",\"samskruthi\",\"nihal\"]\n",
    "names.sort()\n",
    "print(names)"
   ]
  },
  {
   "cell_type": "code",
   "execution_count": 35,
   "metadata": {},
   "outputs": [
    {
     "name": "stdout",
     "output_type": "stream",
     "text": [
      "[35, 65, 82, 98, 100]\n"
     ]
    }
   ],
   "source": [
    "# Sort the list numerically.\n",
    "\n",
    "marks = [100, 98, 65, 82, 35]\n",
    "marks.sort()\n",
    "print(marks)\n"
   ]
  },
  {
   "cell_type": "markdown",
   "metadata": {},
   "source": [
    "#### Sort Descending:\n",
    "         \n",
    "We can sort a list in descending order by setting reverse to True.\n",
    "      \n",
    "    "
   ]
  },
  {
   "cell_type": "code",
   "execution_count": 36,
   "metadata": {},
   "outputs": [
    {
     "name": "stdout",
     "output_type": "stream",
     "text": [
      "['samskruthi', 'sachin', 'nihal', 'gagan', 'arjun']\n"
     ]
    }
   ],
   "source": [
    "# use the list alphabetically.\n",
    "\n",
    "names= [\"sachin\",\"arjun\",\"gagan\",\"samskruthi\",\"nihal\"]\n",
    "names.sort(reverse = True)\n",
    "print(names)"
   ]
  },
  {
   "cell_type": "code",
   "execution_count": 37,
   "metadata": {},
   "outputs": [
    {
     "name": "stdout",
     "output_type": "stream",
     "text": [
      "[100, 98, 82, 65, 35]\n"
     ]
    }
   ],
   "source": [
    "# use  the list numerically.\n",
    "marks = [100, 98, 65, 82, 35]\n",
    "marks.sort(reverse = True)\n",
    "print(marks)"
   ]
  },
  {
   "cell_type": "markdown",
   "metadata": {},
   "source": [
    "#### key = function\n",
    "\n",
    "The sort() method can sort items based on a function"
   ]
  },
  {
   "cell_type": "code",
   "execution_count": 38,
   "metadata": {},
   "outputs": [
    {
     "name": "stdout",
     "output_type": "stream",
     "text": [
      "['ram', 'arjun', 'gagan', 'nihal', 'sachin', 'samskruthi', 'darshan patla']\n"
     ]
    }
   ],
   "source": [
    "names= [\"sachin\",\"arjun\",\"gagan\",\"samskruthi\",\"nihal\",\"darshan patla\",\"ram\"]\n",
    "\n",
    "# stort strings based on their length\n",
    "names.sort(key = len)\n",
    "print(names)"
   ]
  },
  {
   "cell_type": "code",
   "execution_count": 39,
   "metadata": {},
   "outputs": [
    {
     "name": "stdout",
     "output_type": "stream",
     "text": [
      "['arjun', 'darshan patla', 'gagan', 'nihal', 'ram', 'sachin', 'samskruthi']\n"
     ]
    }
   ],
   "source": [
    "names.sort(key = str.lower)\n",
    "print(names)"
   ]
  },
  {
   "cell_type": "markdown",
   "metadata": {},
   "source": [
    "If we  want to reverse the order of a list, regardless of the alphabetWIth We  can use  reverse() method "
   ]
  },
  {
   "cell_type": "code",
   "execution_count": 40,
   "metadata": {},
   "outputs": [
    {
     "name": "stdout",
     "output_type": "stream",
     "text": [
      "['ram', 'darshan patla', 'nihal', 'samskruthi', 'gagan', 'arjun', 'sachin']\n"
     ]
    }
   ],
   "source": [
    "# With the help of  reverse() method \n",
    "\n",
    "\n",
    "\n",
    "names= [\"sachin\",\"arjun\",\"gagan\",\"samskruthi\",\"nihal\",\"darshan patla\",\"ram\"]\n",
    "names.reverse()\n",
    "print(names)\n"
   ]
  },
  {
   "cell_type": "markdown",
   "metadata": {},
   "source": [
    "###  Copy Lists"
   ]
  },
  {
   "cell_type": "code",
   "execution_count": 41,
   "metadata": {},
   "outputs": [
    {
     "name": "stdout",
     "output_type": "stream",
     "text": [
      "['python', 'java', 'R program']\n"
     ]
    }
   ],
   "source": [
    "# With the  help of   copy() method .we can copy values from list1 to list 2.\n",
    "\n",
    "list1=[\"python\",\"java\",\"R program\"]\n",
    "list2=list1.copy()\n",
    "print(list2)"
   ]
  },
  {
   "cell_type": "markdown",
   "metadata": {},
   "source": [
    "## Join Lists:\n",
    " \n",
    "There are many ways to join, or concatenate, two or more lists in Python.\n",
    "\n",
    "One of the easiest ways are by using the + operator.\n",
    "\n",
    "we can use  following Ways to Merge a List in Python\n",
    "- 1. Append \n",
    "- 2. \"+\" operator \n",
    "- 3. For Loop\n",
    "- 4. Extend\n",
    "\n"
   ]
  },
  {
   "cell_type": "code",
   "execution_count": 42,
   "metadata": {},
   "outputs": [
    {
     "name": "stdout",
     "output_type": "stream",
     "text": [
      "[10, 11, 12, 13, 14, 20, 30, 42]\n"
     ]
    }
   ],
   "source": [
    "# The '+' operator can be used to join two lists.\n",
    "\n",
    "list1 = [10, 11, 12, 13, 14] \n",
    "list2 = [20, 30, 42] \n",
    "\n",
    "res = list1 + list2 \n",
    "print(res)"
   ]
  },
  {
   "cell_type": "code",
   "execution_count": 43,
   "metadata": {},
   "outputs": [
    {
     "name": "stdout",
     "output_type": "stream",
     "text": [
      "['python', 'java', 'R program', [10, 11, 12, 13, 14]]\n"
     ]
    }
   ],
   "source": [
    "# The append method will add an item to the end of the list.\n",
    "\n",
    "list1 =[\"python\",\"java\",\"R program\"]\n",
    "list2= [10, 11, 12, 13, 14] \n",
    "list1.append(list2)\n",
    "print(list1)\n"
   ]
  },
  {
   "cell_type": "code",
   "execution_count": 44,
   "metadata": {},
   "outputs": [
    {
     "name": "stdout",
     "output_type": "stream",
     "text": [
      "['python', 'java', 'R program', 10, 11, 12, 13, 14]\n"
     ]
    }
   ],
   "source": [
    "# The extend method will extend the list by appending all the items from the iterable.\n",
    "\n",
    "list1 =[\"python\",\"java\",\"R program\"]\n",
    "list2= [10, 11, 12, 13, 14] \n",
    "list1.extend(list2)\n",
    "print(list1)"
   ]
  },
  {
   "cell_type": "code",
   "execution_count": 45,
   "metadata": {},
   "outputs": [
    {
     "name": "stdout",
     "output_type": "stream",
     "text": [
      "['python', 'java', 'R program', 10, 11, 12, 13, 14]\n"
     ]
    }
   ],
   "source": [
    "# The first for loop goes through the lists (for x in list2).\n",
    "\n",
    "# Then, it will append each element\n",
    "\n",
    "list1 =[\"python\",\"java\",\"R program\"]\n",
    "list2= [10, 11, 12, 13, 14] \n",
    "\n",
    "for x in list2:\n",
    "  list1.append(x)\n",
    "      \n",
    "print(list1)\n",
    "\n"
   ]
  },
  {
   "cell_type": "code",
   "execution_count": null,
   "metadata": {},
   "outputs": [],
   "source": []
  }
 ],
 "metadata": {
  "kernelspec": {
   "display_name": "Python 3",
   "language": "python",
   "name": "python3"
  },
  "language_info": {
   "codemirror_mode": {
    "name": "ipython",
    "version": 3
   },
   "file_extension": ".py",
   "mimetype": "text/x-python",
   "name": "python",
   "nbconvert_exporter": "python",
   "pygments_lexer": "ipython3",
   "version": "3.7.3"
  }
 },
 "nbformat": 4,
 "nbformat_minor": 2
}
