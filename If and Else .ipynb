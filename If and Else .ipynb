{
 "cells": [
  {
   "cell_type": "markdown",
   "metadata": {},
   "source": [
    "# if...else Statement:\n",
    "\n",
    "\n",
    "\n",
    "if statement is also known as a conditional statement, and conditional statements are a staple of decision-making.\n",
    "\n",
    "- We start the if statement using the if keyword.\n",
    "- if statement makes a decision based on a condition.\n",
    "\n",
    "\n",
    "##### Python supports the usual logical conditions from mathematics\n",
    "- Equals: a == b\n",
    "- Not Equals: a != b\n",
    "- Less than: a < b\n",
    "- Less than or equal to: a <= b\n",
    "- Greater than: a > b\n",
    "- Greater than or equal to: a >= b\n",
    "\n",
    "\n",
    "##### The general syntax for an if statement :         \n",
    "                                       if  expression: \n",
    "                                                  # body of if statement\n",
    "\n",
    "\n"
   ]
  },
  {
   "cell_type": "code",
   "execution_count": 1,
   "metadata": {},
   "outputs": [
    {
     "name": "stdout",
     "output_type": "stream",
     "text": [
      "Number is positive\n"
     ]
    }
   ],
   "source": [
    "# Python if Statement\n",
    "\n",
    "a= 200\n",
    "if a > 0:\n",
    "    print(\"Number is positive\")"
   ]
  },
  {
   "cell_type": "code",
   "execution_count": 2,
   "metadata": {},
   "outputs": [
    {
     "name": "stdout",
     "output_type": "stream",
     "text": [
      "a  is less than b\n"
     ]
    }
   ],
   "source": [
    "a= 200\n",
    "b= 400\n",
    "if a < b:\n",
    "    print(\"a  is less than b\")"
   ]
  },
  {
   "cell_type": "markdown",
   "metadata": {},
   "source": [
    "##  Elif:\n",
    "\n",
    "The elif keyword is Python's way of saying \"if the previous conditions were not true, then we need to use elif."
   ]
  },
  {
   "cell_type": "code",
   "execution_count": 3,
   "metadata": {},
   "outputs": [
    {
     "name": "stdout",
     "output_type": "stream",
     "text": [
      "a &  b aree equal\n"
     ]
    }
   ],
   "source": [
    "a=200\n",
    "b=200\n",
    "if b > a:\n",
    "    print(\"b is greater than a\")\n",
    "elif a == b:\n",
    "    print (\"a &  b aree equal\" )\n"
   ]
  },
  {
   "cell_type": "markdown",
   "metadata": {},
   "source": [
    "##  Else:\n",
    "\n",
    "The else keyword catches anything which isn't caught by the preceding conditions.\n",
    "\n",
    "\n",
    "\n",
    "In this  below example a is greater than b, so the first condition is not true, also the elif condition is not true, so we go to the else condition"
   ]
  },
  {
   "cell_type": "code",
   "execution_count": 4,
   "metadata": {},
   "outputs": [
    {
     "name": "stdout",
     "output_type": "stream",
     "text": [
      "a is greater than b\n"
     ]
    }
   ],
   "source": [
    "a = 500\n",
    "b = 400\n",
    "if b > a:\n",
    "  print(\"b is greater than a\")\n",
    "elif a == b:\n",
    "  print(\"a and b are equal\")\n",
    "else:\n",
    "  print(\"a is greater than b\")"
   ]
  },
  {
   "cell_type": "code",
   "execution_count": 5,
   "metadata": {},
   "outputs": [
    {
     "name": "stdout",
     "output_type": "stream",
     "text": [
      "a is greater than b\n"
     ]
    }
   ],
   "source": [
    "#  we  can also have an else without the elif:\n",
    "\n",
    "a = 500\n",
    "b = 400\n",
    "if b > a:\n",
    "  print(\"b is greater than a\")\n",
    "else:\n",
    "  print(\"a is greater than b\")"
   ]
  },
  {
   "cell_type": "markdown",
   "metadata": {},
   "source": [
    "### if else statement:\n",
    "\n",
    "If the condition is False, the code in the if statement is skipped and ignored. Instead, the code in the else statement runs"
   ]
  },
  {
   "cell_type": "code",
   "execution_count": 6,
   "metadata": {},
   "outputs": [
    {
     "name": "stdout",
     "output_type": "stream",
     "text": [
      "Please enter your favorite programming language: Python\n",
      "Correct! Of course it is Python\n"
     ]
    }
   ],
   "source": [
    "language = input(\"Please enter your favorite programming language: \")\n",
    "\n",
    "if language == \"Python\":\n",
    "    print(\"Correct! Of course it is Python\")\n",
    "else:\n",
    "    print(\"Are you sure that it is not Python??\")"
   ]
  },
  {
   "cell_type": "markdown",
   "metadata": {},
   "source": [
    "### Python if…elif…else Statement:\n",
    "\n",
    "When we want to set more conditions and not only have the if and else statements to choose from, you can introduce elif statements.\n",
    "\n",
    "###### The general syntax for an elif statement is the following:\n",
    "\n",
    "if condition:\n",
    "    #if condition is True run this code\n",
    "    code statement(s)\n",
    "elif:\n",
    "    #if the above condition was False and this condition is True,\n",
    "    #run the code in this block\n",
    "    code statement(s)\n",
    "else:\n",
    "    #if the two above conditions are False run this code\n",
    "    code statement\n"
   ]
  },
  {
   "cell_type": "code",
   "execution_count": 7,
   "metadata": {},
   "outputs": [
    {
     "name": "stdout",
     "output_type": "stream",
     "text": [
      "Please enter your age: 16\n",
      "Your not eligible For drinking and marriage\n"
     ]
    }
   ],
   "source": [
    "age = int(input(\"Please enter your age: \"))\n",
    "if age < 18:\n",
    "    print(\"Your not eligible For drinking and marriage\")\n",
    "elif age <21:\n",
    "    print(\"Your eligible For drinking and not for marriage\")\n",
    "else:\n",
    "    print(\"Your eligible For drinking and  marriage\")"
   ]
  },
  {
   "cell_type": "markdown",
   "metadata": {},
   "source": [
    "#####  Write a program to find the given number is positive or negative.\n",
    "\n"
   ]
  },
  {
   "cell_type": "code",
   "execution_count": 8,
   "metadata": {},
   "outputs": [
    {
     "name": "stdout",
     "output_type": "stream",
     "text": [
      "Enter a number :42\n",
      "Positive number\n"
     ]
    }
   ],
   "source": [
    "num=float(input(\"Enter a number :\"))\n",
    "if num > 0:\n",
    "    print(\"Positive number\")\n",
    "elif num == 0:\n",
    "    print(\"Negative number\")\n",
    "else:\n",
    "    print(\"Negative number\")"
   ]
  },
  {
   "cell_type": "markdown",
   "metadata": {},
   "source": [
    "##### Python program to check given character is a vowel or consonant"
   ]
  },
  {
   "cell_type": "code",
   "execution_count": 9,
   "metadata": {},
   "outputs": [
    {
     "name": "stdout",
     "output_type": "stream",
     "text": [
      "Enter a character to check vowel or consonant: A\n",
      "Given character A is a vowel\n"
     ]
    }
   ],
   "source": [
    "a = input(\"Enter a character to check vowel or consonant: \")\n",
    "\n",
    "if a.lower() in 'aeiou':\n",
    "    print(\"Given character\", a, \"is a vowel\")\n",
    "else:\n",
    "    print(\"Given character\", a, \"is a consonant\")"
   ]
  },
  {
   "cell_type": "markdown",
   "metadata": {},
   "source": [
    "##### Python program to find smallest number among three"
   ]
  },
  {
   "cell_type": "code",
   "execution_count": 10,
   "metadata": {},
   "outputs": [
    {
     "name": "stdout",
     "output_type": "stream",
     "text": [
      "Enter the value for a :25\n",
      "Enter the value for b :45\n",
      "Enter the value for c :61\n",
      "a is smallest\n"
     ]
    }
   ],
   "source": [
    "a = int(input(\"Enter the value for a :\"))\n",
    "b = int(input(\"Enter the value for b :\"))\n",
    "c = int(input(\"Enter the value for c :\"))\n",
    "#comparing integer ‘a’ with other two integer\n",
    "if a<=b and a<=c:\n",
    "    print(\"a is smallest\")\n",
    "#comparing integer ‘b’ with other two integer\n",
    "elif b<=a and b<=c:\n",
    "    print(\"b is smallest\")\n",
    "#comparing integer ‘c’ with other two integer\n",
    "elif c<=a and c<=b:\n",
    "    print(\"c is smallest\")"
   ]
  },
  {
   "cell_type": "code",
   "execution_count": 11,
   "metadata": {},
   "outputs": [
    {
     "name": "stdout",
     "output_type": "stream",
     "text": [
      "enter your marks95\n",
      "You got A grade\n",
      "Congrats\n"
     ]
    }
   ],
   "source": [
    "marks=int(input(\"enter your marks\"))\n",
    "if marks>90:\n",
    "    print(\"You got A grade\")\n",
    "    print(\"Congrats\")\n",
    "elif marks > 60 and marks <90:\n",
    "    print(\"You got B grade\")\n",
    "elif marks >35 and marks <60:\n",
    "    print(\"You got C grade\")\n",
    "else:\n",
    "    print(\"sorry, you have failed the exam\")\n"
   ]
  },
  {
   "cell_type": "markdown",
   "metadata": {},
   "source": [
    "### Short Hand If"
   ]
  },
  {
   "cell_type": "code",
   "execution_count": 12,
   "metadata": {},
   "outputs": [
    {
     "name": "stdout",
     "output_type": "stream",
     "text": [
      "a is less than b\n"
     ]
    }
   ],
   "source": [
    "a = 250\n",
    "b =350\n",
    "if a < b: print(\"a is less than b\")"
   ]
  },
  {
   "cell_type": "code",
   "execution_count": 13,
   "metadata": {},
   "outputs": [
    {
     "name": "stdout",
     "output_type": "stream",
     "text": [
      "B\n"
     ]
    }
   ],
   "source": [
    "a = 2\n",
    "b = 330\n",
    "print(\"A\") if a > b else print(\"B\")"
   ]
  },
  {
   "cell_type": "markdown",
   "metadata": {},
   "source": [
    "### And      \n",
    "### OR\n",
    "### Not\n"
   ]
  },
  {
   "cell_type": "code",
   "execution_count": 14,
   "metadata": {},
   "outputs": [
    {
     "name": "stdout",
     "output_type": "stream",
     "text": [
      "Both conditions are True\n"
     ]
    }
   ],
   "source": [
    "# and is used to combine conditional statements\n",
    "a = 200\n",
    "b = 33\n",
    "c = 500\n",
    "if a > b and c > a:\n",
    "  print(\"Both conditions are True\")"
   ]
  },
  {
   "cell_type": "code",
   "execution_count": 15,
   "metadata": {},
   "outputs": [
    {
     "name": "stdout",
     "output_type": "stream",
     "text": [
      "At least one of the conditions is True\n"
     ]
    }
   ],
   "source": [
    "a = 300\n",
    "b = 33\n",
    "c = 500\n",
    "if a > b or a > c:\n",
    "  print(\"At least one of the conditions is True\")"
   ]
  },
  {
   "cell_type": "code",
   "execution_count": 16,
   "metadata": {},
   "outputs": [
    {
     "name": "stdout",
     "output_type": "stream",
     "text": [
      "a is NOT greater than b\n"
     ]
    }
   ],
   "source": [
    "# not is used to reverse the result of the conditional statement.\n",
    "\n",
    "a = 33\n",
    "b = 200\n",
    "if not a > b:\n",
    "  print(\"a is NOT greater than b\")"
   ]
  },
  {
   "cell_type": "markdown",
   "metadata": {},
   "source": [
    "## Nested If:\n",
    "\n",
    "Nested If means include an if statement inside another if statement."
   ]
  },
  {
   "cell_type": "code",
   "execution_count": 17,
   "metadata": {},
   "outputs": [
    {
     "name": "stdout",
     "output_type": "stream",
     "text": [
      "Above ten,\n",
      "and also above 20!\n"
     ]
    }
   ],
   "source": [
    "x = 21\n",
    "if x > 10:\n",
    "    print(\"Above ten,\")\n",
    "if x > 20:\n",
    "    print(\"and also above 20!\")\n",
    "else:\n",
    "    print(\"but not above 20.\")\n"
   ]
  },
  {
   "cell_type": "markdown",
   "metadata": {},
   "source": [
    "### The pass Statement:\n",
    "\n",
    "\n",
    "In Python programming, the pass statement is a null statement which can be used as a placeholder for future code.\n",
    "\n",
    "Suppose we have a loop or a function that is not implemented yet, but we want to implement it in the future. In such cases, we can use the pass statement."
   ]
  },
  {
   "cell_type": "code",
   "execution_count": 18,
   "metadata": {},
   "outputs": [],
   "source": [
    "n = 10\n",
    "\n",
    "# use pass inside if statement\n",
    "if n > 10:\n",
    "    pass\n",
    "\n"
   ]
  },
  {
   "cell_type": "code",
   "execution_count": null,
   "metadata": {},
   "outputs": [],
   "source": []
  }
 ],
 "metadata": {
  "kernelspec": {
   "display_name": "Python 3",
   "language": "python",
   "name": "python3"
  },
  "language_info": {
   "codemirror_mode": {
    "name": "ipython",
    "version": 3
   },
   "file_extension": ".py",
   "mimetype": "text/x-python",
   "name": "python",
   "nbconvert_exporter": "python",
   "pygments_lexer": "ipython3",
   "version": "3.7.3"
  }
 },
 "nbformat": 4,
 "nbformat_minor": 2
}
