{
 "cells": [
  {
   "cell_type": "markdown",
   "metadata": {},
   "source": [
    "# Python for Loop:\n",
    "\n",
    "\n",
    "\n",
    "\n",
    "In Python, a **for loop** is used to iterate over sequences such as **lists, strings, tuples, etc.**\n",
    "\n",
    "##### When to use for Loop:\n",
    "\n",
    "\n",
    "We have need to repeat a block of code a fixed amount of times. If you do not know the number of times it must be repeated, use a “while loop” statement instead.\n"
   ]
  },
  {
   "cell_type": "markdown",
   "metadata": {},
   "source": [
    "In below example We have created a list called num. As the list has 6 elements, "
   ]
  },
  {
   "cell_type": "code",
   "execution_count": 1,
   "metadata": {},
   "outputs": [
    {
     "name": "stdout",
     "output_type": "stream",
     "text": [
      "10\n",
      "25\n",
      "68\n",
      "98\n",
      "45\n",
      "42\n"
     ]
    }
   ],
   "source": [
    "# access elements of the list one by one\n",
    "\n",
    "num = [10,25,68,98,45,42]\n",
    "\n",
    "for i in num:\n",
    "    print(i)"
   ]
  },
  {
   "cell_type": "markdown",
   "metadata": {},
   "source": [
    "## Loop Through a String:\n",
    "\n",
    "we have printed each character of the string name using a for loop.\n",
    "\n",
    "Here printed each character Of the name started from **s** and ended **n**."
   ]
  },
  {
   "cell_type": "code",
   "execution_count": 2,
   "metadata": {},
   "outputs": [
    {
     "name": "stdout",
     "output_type": "stream",
     "text": [
      "s\n",
      "a\n",
      "c\n",
      "h\n",
      "i\n",
      "n\n"
     ]
    }
   ],
   "source": [
    "name = \"sachin\"\n",
    "for  x in  name:\n",
    "    print(x)"
   ]
  },
  {
   "cell_type": "markdown",
   "metadata": {},
   "source": [
    "## break Statement:\n",
    "\n",
    "With the **break statement** we can stop the loop before it has looped through all the items"
   ]
  },
  {
   "cell_type": "code",
   "execution_count": 3,
   "metadata": {},
   "outputs": [
    {
     "name": "stdout",
     "output_type": "stream",
     "text": [
      "sachin\n",
      "samskruthi\n"
     ]
    }
   ],
   "source": [
    "# Exit the loop when x is \"samskruthi\"\n",
    "\n",
    "names = [\"sachin\", \"samskruthi\", \"tejas\",\"arjun\"]\n",
    "for x in names:\n",
    "  print(x)\n",
    "  if x == \"samskruthi\":\n",
    "    break"
   ]
  },
  {
   "cell_type": "code",
   "execution_count": 4,
   "metadata": {},
   "outputs": [
    {
     "name": "stdout",
     "output_type": "stream",
     "text": [
      "sachin\n"
     ]
    }
   ],
   "source": [
    "# Exit the loop when x is \"samskruthi\", but this time the break comes before the print.\n",
    "\n",
    "names = [\"sachin\", \"samskruthi\", \"tejas\",\"arjun\"]\n",
    "for x in names:\n",
    "    if x == \"samskruthi\":\n",
    "        break\n",
    "    print(x)"
   ]
  },
  {
   "cell_type": "markdown",
   "metadata": {},
   "source": [
    "## The continue Statement:\n",
    "\n",
    "\n",
    "The **continue statement** in a for loop is used to skip the current iteration (mentioned iteration)  and move to the next iteration of the loop.\n"
   ]
  },
  {
   "cell_type": "code",
   "execution_count": 5,
   "metadata": {},
   "outputs": [
    {
     "name": "stdout",
     "output_type": "stream",
     "text": [
      "R\n",
      "java\n"
     ]
    }
   ],
   "source": [
    "languages = [\"R\", \"Python\", \"java\"]\n",
    "\n",
    "for x in languages:\n",
    "  if x==\"Python\":\n",
    "    continue\n",
    "  print(x)"
   ]
  },
  {
   "cell_type": "markdown",
   "metadata": {},
   "source": [
    "## Range() Function:\n",
    "\n",
    "In Python, the range() function returns a sequence of numbers. For example:  print 1 to 10 , 20 To 30,like that"
   ]
  },
  {
   "cell_type": "code",
   "execution_count": 6,
   "metadata": {},
   "outputs": [
    {
     "name": "stdout",
     "output_type": "stream",
     "text": [
      "0\n",
      "1\n",
      "2\n",
      "3\n",
      "4\n",
      "5\n"
     ]
    }
   ],
   "source": [
    "# The range() function returns a sequence of numbers, starting from 0 by default.\n",
    "# here print the values 0 to 5.\n",
    "\n",
    "for x in range(6):\n",
    "  print(x)"
   ]
  },
  {
   "cell_type": "code",
   "execution_count": 7,
   "metadata": {},
   "outputs": [
    {
     "name": "stdout",
     "output_type": "stream",
     "text": [
      "2\n",
      "3\n",
      "4\n",
      "5\n",
      "6\n",
      "7\n",
      "8\n",
      "9\n",
      "10\n"
     ]
    }
   ],
   "source": [
    "# print the numbers 2 to 10 using while For loop\n",
    "\n",
    "for x in range(2,11):\n",
    "  print(x)"
   ]
  },
  {
   "cell_type": "code",
   "execution_count": 8,
   "metadata": {},
   "outputs": [
    {
     "name": "stdout",
     "output_type": "stream",
     "text": [
      "2\n",
      "3\n",
      "4\n",
      "5\n",
      "6\n",
      "7\n",
      "8\n",
      "9\n",
      "10\n"
     ]
    }
   ],
   "source": [
    "## print the numbers from 2 to 10 using while loop.\n",
    "i=2\n",
    "while i<=10:\n",
    "    print(i)\n",
    "    i=i+1"
   ]
  },
  {
   "cell_type": "markdown",
   "metadata": {},
   "source": [
    "**Initialization: The range() function is called with three arguments: start = 1, stop = 10, and step = 2.**"
   ]
  },
  {
   "cell_type": "code",
   "execution_count": 9,
   "metadata": {},
   "outputs": [
    {
     "name": "stdout",
     "output_type": "stream",
     "text": [
      "1\n",
      "3\n",
      "5\n",
      "7\n",
      "9\n"
     ]
    }
   ],
   "source": [
    "# Increment the sequence with 2.\n",
    "\n",
    "for x in range(1, 10, 2):\n",
    "    print(x)"
   ]
  },
  {
   "cell_type": "markdown",
   "metadata": {},
   "source": [
    "## Else in For Loop:\n",
    "\n",
    "In Python, the **else block** after a for loop is executed when the loop completes normally."
   ]
  },
  {
   "cell_type": "code",
   "execution_count": 11,
   "metadata": {},
   "outputs": [
    {
     "name": "stdout",
     "output_type": "stream",
     "text": [
      "5\n",
      "10\n",
      "15\n",
      "20\n",
      "No items left.\n"
     ]
    }
   ],
   "source": [
    "num = [5, 10, 15,20]\n",
    "\n",
    "for i in num:\n",
    "    print(i)\n",
    "else:\n",
    "    print(\"No items left.\")"
   ]
  },
  {
   "cell_type": "code",
   "execution_count": 14,
   "metadata": {},
   "outputs": [
    {
     "name": "stdout",
     "output_type": "stream",
     "text": [
      "0\n",
      "1\n",
      "2\n"
     ]
    }
   ],
   "source": [
    "# Break the loop when x is 3, and see what happens with the else block.\n",
    "\n",
    "for x in range(6):\n",
    "  if x == 3: break\n",
    "  print(x)\n",
    "else:\n",
    "  print(\"Finally finished!\")"
   ]
  },
  {
   "cell_type": "markdown",
   "metadata": {},
   "source": [
    "## Nested Loops:\n",
    "\n",
    "\n",
    "A **for loop** can also have another **for loop** inside it. For each cycle of the outer loop, the inner loop completes its entire sequence of iterations."
   ]
  },
  {
   "cell_type": "code",
   "execution_count": 15,
   "metadata": {},
   "outputs": [
    {
     "name": "stdout",
     "output_type": "stream",
     "text": [
      "sachin Bangalore\n",
      "sachin mysore\n",
      "sachin mangalore\n",
      "arjun Bangalore\n",
      "arjun mysore\n",
      "arjun mangalore\n",
      "samskruthi Bangalore\n",
      "samskruthi mysore\n",
      "samskruthi mangalore\n"
     ]
    }
   ],
   "source": [
    "names = [\"sachin\",\"arjun\",\"samskruthi\"]\n",
    "citys= [\"Bangalore\",\"mysore\",\"mangalore\"]\n",
    "for x in names:\n",
    "    for y in citys:\n",
    "        print(x,y)"
   ]
  },
  {
   "cell_type": "code",
   "execution_count": 18,
   "metadata": {},
   "outputs": [],
   "source": [
    "# pass Statement\n",
    "#for loops cannot be empty, but if you for some reason have a for loop with no content, put in the pass statement to \n",
    "# avoid getting an error.\n",
    "\n",
    "for x in [0, 1, 2]:\n",
    "  pass"
   ]
  },
  {
   "cell_type": "markdown",
   "metadata": {},
   "source": [
    "## Basic programming tasks:\n",
    "\n",
    "\n",
    "**Example 1: Print the first 10 natural numbers using for loop.**"
   ]
  },
  {
   "cell_type": "code",
   "execution_count": 19,
   "metadata": {},
   "outputs": [
    {
     "name": "stdout",
     "output_type": "stream",
     "text": [
      "1\n",
      "2\n",
      "3\n",
      "4\n",
      "5\n",
      "6\n",
      "7\n",
      "8\n",
      "9\n",
      "10\n"
     ]
    }
   ],
   "source": [
    "for i in range(1,11):\n",
    "        print(i)"
   ]
  },
  {
   "cell_type": "markdown",
   "metadata": {},
   "source": [
    "**Example 2: Python program to print all the even numbers within the given range.**"
   ]
  },
  {
   "cell_type": "code",
   "execution_count": 21,
   "metadata": {},
   "outputs": [
    {
     "name": "stdout",
     "output_type": "stream",
     "text": [
      "0\n",
      "2\n",
      "4\n",
      "6\n",
      "8\n"
     ]
    }
   ],
   "source": [
    "# if the given range is 10\n",
    "\n",
    " \n",
    "for i in range(10):\n",
    " \n",
    "        # if number is divisble by 2\n",
    "        # then it's even\n",
    "        if i%2==0:\n",
    " \n",
    "                # if above condition is true\n",
    "                # print the number\n",
    "                print(i)"
   ]
  },
  {
   "cell_type": "markdown",
   "metadata": {},
   "source": [
    "**Example 3: Python program to print a multiplication table of a given number**"
   ]
  },
  {
   "cell_type": "code",
   "execution_count": 49,
   "metadata": {},
   "outputs": [
    {
     "name": "stdout",
     "output_type": "stream",
     "text": [
      "2\n",
      "4\n",
      "6\n",
      "8\n",
      "10\n",
      "12\n",
      "14\n",
      "16\n",
      "18\n",
      "20\n"
     ]
    }
   ],
   "source": [
    "#if the given range is 10\n",
    "given_number = 2\n",
    " \n",
    "for i in range(1,11):\n",
    "    a = given_number *i\n",
    "    print(a)"
   ]
  },
  {
   "cell_type": "code",
   "execution_count": 51,
   "metadata": {},
   "outputs": [
    {
     "name": "stdout",
     "output_type": "stream",
     "text": [
      "2  x 1  = 2\n",
      "2  x 2  = 4\n",
      "2  x 3  = 6\n",
      "2  x 4  = 8\n",
      "2  x 5  = 10\n",
      "2  x 6  = 12\n",
      "2  x 7  = 14\n",
      "2  x 8  = 16\n",
      "2  x 9  = 18\n",
      "2  x 10  = 20\n"
     ]
    }
   ],
   "source": [
    "# if the given range is 10\n",
    "given_number = 2\n",
    " \n",
    "for i in range(1,11):\n",
    "        print (given_number,\" x\",i,\" =\",2*i)"
   ]
  },
  {
   "cell_type": "markdown",
   "metadata": {},
   "source": [
    "**Example 4: Python program to count the number of even and odd numbers from a series of numbers.**"
   ]
  },
  {
   "cell_type": "code",
   "execution_count": 52,
   "metadata": {},
   "outputs": [
    {
     "name": "stdout",
     "output_type": "stream",
     "text": [
      "1 is an odd number.\n",
      "3 is an odd number.\n",
      "5 is an odd number.\n",
      "6 is an even number.\n",
      "99 is an odd number.\n",
      "134 is an even number.\n",
      "55 is an odd number.\n"
     ]
    }
   ],
   "source": [
    "# given list of numbers\n",
    "num = [1,3,5,6,99,134,55]\n",
    " \n",
    "# iterate through the list elemets\n",
    "# using for loop\n",
    "for i in num:\n",
    "    # if divided by 2, all even\n",
    "    # number leave a remainder of 0\n",
    "    if i%2==0:\n",
    "        print(i,\"is an even number.\")\n",
    " \n",
    "    # if remainder is not zero\n",
    "    # then it's an odd number\n",
    "    else:\n",
    "        print(i,\"is an odd number.\")"
   ]
  },
  {
   "cell_type": "code",
   "execution_count": null,
   "metadata": {},
   "outputs": [],
   "source": []
  }
 ],
 "metadata": {
  "kernelspec": {
   "display_name": "Python 3",
   "language": "python",
   "name": "python3"
  },
  "language_info": {
   "codemirror_mode": {
    "name": "ipython",
    "version": 3
   },
   "file_extension": ".py",
   "mimetype": "text/x-python",
   "name": "python",
   "nbconvert_exporter": "python",
   "pygments_lexer": "ipython3",
   "version": "3.7.3"
  }
 },
 "nbformat": 4,
 "nbformat_minor": 2
}
