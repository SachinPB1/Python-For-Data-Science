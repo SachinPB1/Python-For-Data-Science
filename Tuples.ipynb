{
 "cells": [
  {
   "cell_type": "markdown",
   "metadata": {},
   "source": [
    "# Python Tuples:\n",
    "\n",
    "Tuples are used to store multiple items in a single variable.\n",
    "\n",
    "A tuple is a collection similar to a Python list. The primary difference is that we cannot modify a tuple once it is created.\n",
    "\n",
    "\n",
    "#### Tuple Characteristics:\n",
    "\n",
    "- Ordered - They maintain the order of elements.\n",
    "- Immutable - They cannot be changed after creation.\n",
    "- Allow duplicates - They can contain duplicate values.\n"
   ]
  },
  {
   "cell_type": "code",
   "execution_count": 1,
   "metadata": {},
   "outputs": [
    {
     "name": "stdout",
     "output_type": "stream",
     "text": [
      "(1, 5, 6, 8, 9)\n",
      "('sachin', 'darshan', 'tejas')\n",
      "(2.5, 3.6, 9.8)\n",
      "(25, 'sachin', 2.6)\n"
     ]
    }
   ],
   "source": [
    "#  Tuples are written with round brackets.\n",
    "\n",
    "\n",
    "\n",
    "a=(1,5,6,8,9)                        # tuple with integer\n",
    "print(a)\n",
    "\n",
    "\n",
    "names=(\"sachin\",\"darshan\",\"tejas\")     # tuple with string \n",
    "print(names)\n",
    "\n",
    "\n",
    "b=(2.5,3.6,9.8)                       # tuple with string, integer and float.\n",
    "print(b)\n",
    "\n",
    "\n",
    "c=(25,\"sachin\",2.6)     #tuple including string and integer float.\n",
    "print(c)"
   ]
  },
  {
   "cell_type": "markdown",
   "metadata": {},
   "source": [
    "To create a tuple with only one item, we have to add a comma after the item, \n",
    "otherwise Python will not recognize it as a tuple."
   ]
  },
  {
   "cell_type": "code",
   "execution_count": 2,
   "metadata": {},
   "outputs": [
    {
     "name": "stdout",
     "output_type": "stream",
     "text": [
      "<class 'tuple'>\n",
      "<class 'str'>\n"
     ]
    }
   ],
   "source": [
    "#  create a tuple with only one item\n",
    "n=(\"sachin\",)\n",
    "print(type(n))\n",
    "\n",
    "\n",
    "#  #NOT a tuple\n",
    "\n",
    "d=(\"sachin\")\n",
    "print(type(d))    # without add a comma after the item its consider string."
   ]
  },
  {
   "cell_type": "code",
   "execution_count": 3,
   "metadata": {},
   "outputs": [
    {
     "name": "stdout",
     "output_type": "stream",
     "text": [
      "('apple', 'banana', 'cherry')\n"
     ]
    }
   ],
   "source": [
    "# It is also possible to use the tuple() constructor to make a tuple.\n",
    "\n",
    "fruits = tuple((\"apple\", \"banana\", \"cherry\"))   # use  double round-brackets\n",
    "print(fruits)\n"
   ]
  },
  {
   "cell_type": "markdown",
   "metadata": {},
   "source": [
    "## Access Tuple Items:\n",
    "\n",
    "\n",
    "Each item in a tuple is associated with a number, known as a index.\n",
    "\n",
    "The index always starts from 0, meaning the first item of a tuple is at index 0, the second item is at index 1, and so on.\n"
   ]
  },
  {
   "cell_type": "code",
   "execution_count": 4,
   "metadata": {},
   "outputs": [
    {
     "name": "stdout",
     "output_type": "stream",
     "text": [
      "sachin\n",
      "tejas\n",
      "420\n",
      "samskruthi\n"
     ]
    }
   ],
   "source": [
    "names=(\"sachin\",\"tejas\",420,\"samskruthi\")\n",
    "\n",
    "\n",
    "# access the first item\n",
    "print(names[0])        # sachin\n",
    "\n",
    "# access the 2nd item\n",
    "print(names[1])        # tejas\n",
    "\n",
    "# access the 3nd item\n",
    "print(names[2])         # 420\n",
    "\n",
    "# access the 4th item\n",
    "print(names[3])         # samskruthi\n"
   ]
  },
  {
   "cell_type": "code",
   "execution_count": 5,
   "metadata": {},
   "outputs": [
    {
     "name": "stdout",
     "output_type": "stream",
     "text": [
      "<class 'str'>\n",
      "<class 'str'>\n",
      "<class 'int'>\n",
      "<class 'str'>\n"
     ]
    }
   ],
   "source": [
    "# Print the type of value on each index\n",
    "\n",
    "print(type(names[0]))\n",
    "print(type(names[1]))\n",
    "print(type(names[2]))\n",
    "print(type(names[3])) \n"
   ]
  },
  {
   "cell_type": "markdown",
   "metadata": {},
   "source": [
    "#### Negative Indexing\n",
    " Negative indexing means start from the end.\n",
    "\n",
    "-1 refers to the last item, -2 refers to the second last item"
   ]
  },
  {
   "cell_type": "code",
   "execution_count": 6,
   "metadata": {},
   "outputs": [
    {
     "name": "stdout",
     "output_type": "stream",
     "text": [
      "samskruthi\n"
     ]
    }
   ],
   "source": [
    "# Print the last item of the tuple:\n",
    "\n",
    "names=(\"sachin\",\"tejas\",420,\"samskruthi\")\n",
    "print(names[-1])"
   ]
  },
  {
   "cell_type": "code",
   "execution_count": 7,
   "metadata": {},
   "outputs": [
    {
     "name": "stdout",
     "output_type": "stream",
     "text": [
      "(420, 'samskruthi')\n"
     ]
    }
   ],
   "source": [
    "# we  can specify a range of indexes by specifying where to start and where to end the range.\n",
    "\n",
    "names=(\"sachin\",\"tejas\",420,\"samskruthi\")    \n",
    "print(names[2:4])"
   ]
  },
  {
   "cell_type": "code",
   "execution_count": 8,
   "metadata": {},
   "outputs": [
    {
     "name": "stdout",
     "output_type": "stream",
     "text": [
      "('sachin', 'tejas')\n",
      "(420, 'samskruthi')\n"
     ]
    }
   ],
   "source": [
    "# returns the items from the beginning to, but NOT included,420\n",
    "\n",
    "names=(\"sachin\",\"tejas\",420,\"samskruthi\")    \n",
    "print(names[:2])\n",
    "\n",
    "print(names[2:])    # This example returns the items from \"420\" and to the end"
   ]
  },
  {
   "cell_type": "markdown",
   "metadata": {},
   "source": [
    "To determine if a specified item is present in a tuple use the in keyword:"
   ]
  },
  {
   "cell_type": "code",
   "execution_count": 9,
   "metadata": {},
   "outputs": [
    {
     "name": "stdout",
     "output_type": "stream",
     "text": [
      "yes\n"
     ]
    }
   ],
   "source": [
    "names=(\"sachin\",\"tejas\",420,\"samskruthi\")   \n",
    "\n",
    "if \"sachin\" in names:\n",
    "  print(\"yes\")"
   ]
  },
  {
   "cell_type": "markdown",
   "metadata": {},
   "source": [
    "## Change Tuple Items:\n",
    "\n",
    "- we cannot change the items of a tuple once created. If we try to do so, we will get an error.\n",
    "- if we need to change we can convert the tuple into a list, change the list, and convert the list back into a tuple.\n",
    "\n",
    "\n",
    "-  NOTE:---------- if we want to Add items To tuple or  Remove Items from tuple we can convert the tuple into a list,                          add or remove , then convert the list back into a tuple."
   ]
  },
  {
   "cell_type": "code",
   "execution_count": 10,
   "metadata": {},
   "outputs": [
    {
     "name": "stdout",
     "output_type": "stream",
     "text": [
      "['sachin', 'thanmay', 420, 'samskruthi']\n",
      "('sachin', 'tejas', 420, 'samskruthi', 'patla')\n",
      "('sachin', 'tejas', 'samskruthi')\n"
     ]
    }
   ],
   "source": [
    "# Here we can change the items  with help of list.\n",
    "  \n",
    "a =(\"sachin\",\"tejas\",420,\"samskruthi\")  \n",
    "\n",
    "# convert list and change\n",
    "b = list(a)\n",
    "b[1]= \"thanmay\"\n",
    " \n",
    "# convert list to tuple\n",
    "\n",
    "a =tuple(b)\n",
    "print(b)\n",
    "\n",
    "\n",
    "#############                        ADD ITEM\n",
    "\n",
    "\n",
    "x =(\"sachin\",\"tejas\",420,\"samskruthi\") \n",
    "y=list(x)\n",
    "y.append(\"patla\")\n",
    "x=tuple(y)\n",
    "print(x)\n",
    "  \n",
    "    \n",
    "#############                       REMOVE ITEMS\n",
    "\n",
    "\n",
    "s =(\"sachin\",\"tejas\",420,\"samskruthi\") \n",
    "p=list(s)\n",
    "p.remove(420)\n",
    "s=tuple(p)\n",
    "print(s)\n",
    "  \n",
    "\n"
   ]
  },
  {
   "cell_type": "markdown",
   "metadata": {},
   "source": [
    "## Unpacking a Tuple:\n",
    "   \n",
    "   Unpacking a tuple means splitting the tuple’s elements into individual variables."
   ]
  },
  {
   "cell_type": "code",
   "execution_count": 11,
   "metadata": {},
   "outputs": [
    {
     "name": "stdout",
     "output_type": "stream",
     "text": [
      "1\n",
      "2\n"
     ]
    }
   ],
   "source": [
    "# here we create Unpacking a tuple with integers.\n",
    "\n",
    "\n",
    "x, y = (1, 2)     # tuple of two variables x and y\n",
    "print(x)          # tuple of two integers values 1 and 2\n",
    "print(y)"
   ]
  },
  {
   "cell_type": "code",
   "execution_count": 12,
   "metadata": {},
   "outputs": [
    {
     "name": "stdout",
     "output_type": "stream",
     "text": [
      "apple\n",
      "banana\n",
      "cherry\n"
     ]
    }
   ],
   "source": [
    "fruits = (\"apple\", \"banana\", \"cherry\")\n",
    "\n",
    "green, yellow, red = fruits\n",
    "\n",
    "print(green)\n",
    "print(yellow)\n",
    "print(red)\n",
    "\n",
    "\n",
    "# The number of variables must match the number of values in the tuple"
   ]
  },
  {
   "cell_type": "markdown",
   "metadata": {},
   "source": [
    "#### Using Asterisk*:\n",
    "    \n",
    "    \n",
    "    If the number of variables is less than the number of values, we can add an * to the variable name and the values will     be assigned to the variable as a list:"
   ]
  },
  {
   "cell_type": "code",
   "execution_count": 13,
   "metadata": {},
   "outputs": [
    {
     "name": "stdout",
     "output_type": "stream",
     "text": [
      "apple\n",
      "banana\n",
      "['cherry', 'strawberry', 'Watermelon']\n"
     ]
    }
   ],
   "source": [
    "#Assign the rest of the values as a list called \"red\"\n",
    "\n",
    "fruits = (\"apple\", \"banana\", \"cherry\", \"strawberry\", \"Watermelon\")\n",
    "\n",
    "(green, yellow, *red) = fruits\n",
    "\n",
    "print(green)\n",
    "print(yellow)\n",
    "print(red)"
   ]
  },
  {
   "cell_type": "markdown",
   "metadata": {},
   "source": [
    "If the asterisk is added to another variable name than the last, \n",
    "Python will assign values to the variable until the number of values left matches the number of variables left.\n"
   ]
  },
  {
   "cell_type": "code",
   "execution_count": 14,
   "metadata": {},
   "outputs": [
    {
     "name": "stdout",
     "output_type": "stream",
     "text": [
      "apple\n",
      "['mango', 'papaya', 'pineapple']\n",
      "Watermelon\n"
     ]
    }
   ],
   "source": [
    "fruits = (\"apple\", \"mango\", \"papaya\", \"pineapple\", \"Watermelon\")\n",
    "\n",
    "green, *tropic, red = fruits\n",
    "\n",
    "print(green)\n",
    "print(tropic)\n",
    "print(red)"
   ]
  },
  {
   "cell_type": "code",
   "execution_count": 15,
   "metadata": {},
   "outputs": [
    {
     "name": "stdout",
     "output_type": "stream",
     "text": [
      "apple\n",
      "['mango', 'papaya', 'pineapple']\n",
      "Watermelon\n"
     ]
    }
   ],
   "source": [
    "green, *tropic, red = (\"apple\", \"mango\", \"papaya\", \"pineapple\", \"Watermelon\")\n",
    "print(green)\n",
    "print(tropic)\n",
    "print(red)"
   ]
  },
  {
   "cell_type": "markdown",
   "metadata": {},
   "source": [
    "## Loop Through a Tuple:\n",
    "\n",
    "We can loop through the tuple items by using a for loop."
   ]
  },
  {
   "cell_type": "code",
   "execution_count": 16,
   "metadata": {},
   "outputs": [
    {
     "name": "stdout",
     "output_type": "stream",
     "text": [
      "25\n",
      "68\n",
      "96\n",
      "45\n",
      "21\n",
      "63\n"
     ]
    }
   ],
   "source": [
    "numbers=(25,68,96,45,21,63)\n",
    "for x in numbers:\n",
    "    print(x)"
   ]
  },
  {
   "cell_type": "code",
   "execution_count": 17,
   "metadata": {},
   "outputs": [
    {
     "name": "stdout",
     "output_type": "stream",
     "text": [
      "yes\n"
     ]
    }
   ],
   "source": [
    "numbers=(25,68,96,45,21,63)\n",
    "for x in numbers:\n",
    "    if 68 == x:\n",
    "        print(\"yes\")"
   ]
  },
  {
   "cell_type": "code",
   "execution_count": 18,
   "metadata": {},
   "outputs": [
    {
     "name": "stdout",
     "output_type": "stream",
     "text": [
      "No\n",
      "No\n",
      "No\n",
      "No\n",
      "No\n",
      "No\n"
     ]
    }
   ],
   "source": [
    "numbers=(25,68,96,45,21,63)\n",
    "for x in numbers:\n",
    "    if 59 == x:\n",
    "        print(\"yes\")\n",
    "    else:\n",
    "          print(\"No\")"
   ]
  },
  {
   "cell_type": "code",
   "execution_count": 19,
   "metadata": {},
   "outputs": [
    {
     "name": "stdout",
     "output_type": "stream",
     "text": [
      "25\n",
      "68\n",
      "96\n",
      "45\n",
      "21\n",
      "63\n"
     ]
    }
   ],
   "source": [
    "# Use the range() and len() functions to create a suitable iterable.\n",
    "numbers=(25,68,96,45,21,63)\n",
    "for x in range(len(numbers)):\n",
    "    print(numbers[x])"
   ]
  },
  {
   "cell_type": "markdown",
   "metadata": {},
   "source": [
    "## Join Tuples:\n",
    "    To join two or more tuples you can use the + operator:"
   ]
  },
  {
   "cell_type": "code",
   "execution_count": 20,
   "metadata": {},
   "outputs": [
    {
     "name": "stdout",
     "output_type": "stream",
     "text": [
      "('sachin', 'samskruthi', 'patla', 1, 2, 3)\n"
     ]
    }
   ],
   "source": [
    "# with the help of + operator  we can join 2 tuples.\n",
    "\n",
    "tuple1 = (\"sachin\", \"samskruthi\" , \"patla\")\n",
    "tuple2 = (1, 2, 3)\n",
    "tuple3 = tuple1 + tuple2\n",
    "print(tuple3)"
   ]
  },
  {
   "cell_type": "code",
   "execution_count": 21,
   "metadata": {},
   "outputs": [
    {
     "name": "stdout",
     "output_type": "stream",
     "text": [
      "('sachin', 'samskruthi', 'patla', 'sachin', 'samskruthi', 'patla')\n"
     ]
    }
   ],
   "source": [
    "# If we  want to multiply the content of a tuple a given number of times, you can use the * operator\n",
    "\n",
    "tuple = (\"sachin\", \"samskruthi\" , \"patla\")\n",
    "tuple1 = tuple*2\n",
    "print(tuple1)"
   ]
  },
  {
   "cell_type": "markdown",
   "metadata": {},
   "source": [
    "## Tuple Methods:\n",
    "\n",
    "  Python has two built-in methods\n",
    "  \n",
    "- 1)count()\n",
    "- 2)index()"
   ]
  },
  {
   "cell_type": "markdown",
   "metadata": {},
   "source": [
    "#### Count() :\n",
    "          The count() method returns the number of times the specified element appears in the tuple."
   ]
  },
  {
   "cell_type": "code",
   "execution_count": 22,
   "metadata": {},
   "outputs": [
    {
     "name": "stdout",
     "output_type": "stream",
     "text": [
      "4\n"
     ]
    }
   ],
   "source": [
    "# create tuple\n",
    "numbers=(1,2,3,3,4,5,6,7,3,3)\n",
    "\n",
    "# counts the number of 3 in the tuple\n",
    "x = numbers.count(3)\n",
    "print(x)\n"
   ]
  },
  {
   "cell_type": "markdown",
   "metadata": {},
   "source": [
    "#### index():\n",
    "     \n",
    "     The index() method finds the first occurrence of the specified value."
   ]
  },
  {
   "cell_type": "code",
   "execution_count": 23,
   "metadata": {},
   "outputs": [
    {
     "name": "stdout",
     "output_type": "stream",
     "text": [
      "1\n"
     ]
    }
   ],
   "source": [
    "# tuple containing vowels\n",
    "vowels = ('a', 'e', 'i', 'o', 'u')\n",
    "\n",
    "# index of 'e' in vowels\n",
    "index = vowels.index('e')\n",
    "\n",
    "print(index)"
   ]
  },
  {
   "cell_type": "code",
   "execution_count": null,
   "metadata": {},
   "outputs": [],
   "source": []
  }
 ],
 "metadata": {
  "kernelspec": {
   "display_name": "Python 3",
   "language": "python",
   "name": "python3"
  },
  "language_info": {
   "codemirror_mode": {
    "name": "ipython",
    "version": 3
   },
   "file_extension": ".py",
   "mimetype": "text/x-python",
   "name": "python",
   "nbconvert_exporter": "python",
   "pygments_lexer": "ipython3",
   "version": "3.7.3"
  }
 },
 "nbformat": 4,
 "nbformat_minor": 5
}
